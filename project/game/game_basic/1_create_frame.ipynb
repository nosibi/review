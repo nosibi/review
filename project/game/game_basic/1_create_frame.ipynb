{
 "cells": [
  {
   "cell_type": "code",
   "execution_count": 4,
   "metadata": {},
   "outputs": [],
   "source": [
    "import sys #pygame 라이브러리가 호출이 안되서 임시방편으로 사용함\n",
    "sys.path.append(r'c:\\users\\samsung\\anaconda3\\lib\\site-packages')\n",
    "import pygame\n",
    "\n",
    "pygame.init() # 초기화(반드시 필요)\n",
    "\n",
    "# 화면 크기 설정\n",
    "screen_width = 1200 # 가로\n",
    "screen_height = 675 # 세로\n",
    "screen = pygame.display.set_mode((screen_width,screen_height))\n",
    "\n",
    "# 화면 타이틀 설정\n",
    "pygame.display.set_caption(\"Dumbel adventure\") # 게임 이름\n",
    "\n",
    "# 이벤트 루프\n",
    "running = True # 게임이 진행중인가?를 확인\n",
    "while running: #게임이 진행중이면 while문이 계속 반복\n",
    "    for event in pygame.event.get():\n",
    "        if event.type == pygame.QUIT: # 창을 껐을 때 이 이벤트가 발생\n",
    "            running = False # running이 끝나므로 while문 종료\n",
    "\n",
    "# pygame 종료\n",
    "pygame.quit()"
   ]
  }
 ],
 "metadata": {
  "kernelspec": {
   "display_name": "Python 3",
   "language": "python",
   "name": "python3"
  },
  "language_info": {
   "codemirror_mode": {
    "name": "ipython",
    "version": 3
   },
   "file_extension": ".py",
   "mimetype": "text/x-python",
   "name": "python",
   "nbconvert_exporter": "python",
   "pygments_lexer": "ipython3",
   "version": "3.9.10"
  },
  "orig_nbformat": 4
 },
 "nbformat": 4,
 "nbformat_minor": 2
}
