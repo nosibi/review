{
 "cells": [
  {
   "cell_type": "code",
   "execution_count": 7,
   "metadata": {},
   "outputs": [],
   "source": [
    "import sys #pygame 라이브러리가 호출이 안되서 임시방편으로 사용함\n",
    "sys.path.append(r'c:\\users\\samsung\\anaconda3\\lib\\site-packages')\n",
    "import pygame\n",
    "\n",
    "pygame.init() # 초기화(반드시 필요)\n",
    "\n",
    "# 화면 크기 설정\n",
    "screen_width = 480 # 가로\n",
    "screen_height = 640 # 세로\n",
    "screen = pygame.display.set_mode((screen_width,screen_height))\n",
    "\n",
    "\n",
    "# 화면 타이틀 설정\n",
    "pygame.display.set_caption(\"physical adventure\") # 게임 이름\n",
    "\n",
    "\n",
    "# 배경 이미지 불러오기\n",
    "background = pygame.image.load(r'C:\\python\\project\\game\\background.png')\n",
    "\n",
    "# 스프라이트(캐릭터) 불러오기\n",
    "character = pygame.image.load(r'C:\\python\\project\\game\\character.png')\n",
    "character_size = character.get_rect().size # 이미지의 크기를 구해옴\n",
    "character_width = character_size[0] # 캐릭터의 가로 크기\n",
    "character_height = character_size[1] # 캐릭터의 세로 크기\n",
    "character_x_pos = (screen_width / 2) - (character_width / 2) # 화면 절반 크기에 해당하는 곳에 위치(가로 위치)\n",
    "character_y_pos = screen_height - character_height   # 화면 세로 크기 가장 아래에 위치(세로 위치)\n",
    "\n",
    "\n",
    "# 이벤트 루프\n",
    "running = True # 게임이 진행중인가?를 확인\n",
    "while running: #게임이 진행중이면 while문이 계속 반복\n",
    "    for event in pygame.event.get():\n",
    "        if event.type == pygame.QUIT: # 창을 껐을 때 이 이벤트가 발생\n",
    "            running = False # running이 끝나므로 while문 종료\n",
    "    \n",
    "    screen.blit(background,(0,0)) # 배경 그리기\n",
    "    screen.blit(character,(character_x_pos,character_y_pos))\n",
    "    pygame.display.update() # 게임화면 다시 그리기!(반드시) #blit 아래에 있어야 한다\n",
    "# pygame 종료\n",
    "pygame.quit()\n",
    "\n"
   ]
  },
  {
   "cell_type": "code",
   "execution_count": null,
   "metadata": {},
   "outputs": [],
   "source": []
  }
 ],
 "metadata": {
  "kernelspec": {
   "display_name": "Python 3",
   "language": "python",
   "name": "python3"
  },
  "language_info": {
   "codemirror_mode": {
    "name": "ipython",
    "version": 3
   },
   "file_extension": ".py",
   "mimetype": "text/x-python",
   "name": "python",
   "nbconvert_exporter": "python",
   "pygments_lexer": "ipython3",
   "version": "3.9.10"
  },
  "orig_nbformat": 4
 },
 "nbformat": 4,
 "nbformat_minor": 2
}
