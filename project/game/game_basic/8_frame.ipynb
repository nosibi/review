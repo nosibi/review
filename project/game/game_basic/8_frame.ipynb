{
 "cells": [
  {
   "cell_type": "code",
   "execution_count": null,
   "metadata": {},
   "outputs": [],
   "source": [
    "import sys #pygame 라이브러리가 호출이 안되서 임시방편으로 사용함\n",
    "sys.path.append(r'c:\\users\\samsung\\anaconda3\\lib\\site-packages')\n",
    "import pygame\n",
    "####################################################################\n",
    "# 기본 초기화(반드시 해야 하는 것들)\n",
    "pygame.init()\n",
    "\n",
    "# 화면 크기 설정\n",
    "screen_width = 480 # 가로\n",
    "screen_height = 640 # 세로\n",
    "screen = pygame.display.set_mode((screen_width,screen_height))\n",
    "\n",
    "\n",
    "# 화면 타이틀 설정\n",
    "pygame.display.set_caption(\"게임 이름\")\n",
    "\n",
    "# FPS(frame per second)\n",
    "clock = pygame.time.Clock()\n",
    "#####################################################################\n",
    "\n",
    "# 1. 사용자 게임 초기화 (배경화면, 캐릭터, 게임 이미지, 좌표, 속도, 폰트 등)\n",
    "\n",
    "running = True\n",
    "while running: \n",
    "    dt = clock.tick(60)\n",
    "    \n",
    "    # 2. 이벤트 처리(키보드, 마우스 등)\n",
    "    for event in pygame.event.get():\n",
    "        if event.type == pygame.QUIT: \n",
    "            running = False \n",
    "        \n",
    "    # 3. 게임 캐릭터 위치 정의\n",
    "    \n",
    "    # 4. 충돌 처리\n",
    "    \n",
    "    # 5. 화면에 그리기\n",
    "    \n",
    "    pygame.display.update() # 게임화면 다시 그리기!(반드시) #blit 아래에 있어야 한다\n",
    "    \n",
    "\n",
    "# pygame 종료\n",
    "pygame.quit()"
   ]
  }
 ],
 "metadata": {
  "language_info": {
   "name": "python"
  },
  "orig_nbformat": 4
 },
 "nbformat": 4,
 "nbformat_minor": 2
}
