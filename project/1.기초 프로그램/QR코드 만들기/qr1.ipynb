{
 "cells": [
  {
   "cell_type": "code",
   "execution_count": 7,
   "metadata": {},
   "outputs": [],
   "source": [
    "# 굳이 하나 만들거면 파이썬을 이용하는 건 비효율적이다.. 반복적, 자동화 등등에 효율적이다\n",
    "import qrcode\n",
    "\n",
    "qr_data = 'www.youtube.com'\n",
    "qr_img = qrcode.make(qr_data)\n",
    "save_path = 'C:\\\\파이썬\\\\40개의 작품\\\\QR코드 만들기\\\\' + qr_data + '.png' # 절대경로로 복사할 것....\n",
    "qr_img.save(save_path)\n"
   ]
  }
 ],
 "metadata": {
  "kernelspec": {
   "display_name": "base",
   "language": "python",
   "name": "python3"
  },
  "language_info": {
   "codemirror_mode": {
    "name": "ipython",
    "version": 3
   },
   "file_extension": ".py",
   "mimetype": "text/x-python",
   "name": "python",
   "nbconvert_exporter": "python",
   "pygments_lexer": "ipython3",
   "version": "3.9.12"
  },
  "orig_nbformat": 4
 },
 "nbformat": 4,
 "nbformat_minor": 2
}
