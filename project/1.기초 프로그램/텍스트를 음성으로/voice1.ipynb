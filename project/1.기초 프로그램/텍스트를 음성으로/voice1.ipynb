{
 "cells": [
  {
   "cell_type": "code",
   "execution_count": 1,
   "metadata": {},
   "outputs": [],
   "source": [
    "# import gtts # 문자를 음성으로 변환해주는 라이브러리\n",
    "from gtts import gTTS # gtts라는 라이브러리에서 gTTS만 가지고 와서 사용하겠다\n",
    "\n",
    "text1 = '반갑습니다'\n",
    "\n",
    "tts = gTTS(text = text1, lang = \"ko\") # 텍스트는 text1에서, 언어는 korea\n",
    "tts.save(\"C:\\\\파이썬\\\\40개의 작품\\\\텍스트를 음성으로\\\\hello.mp3\") #어디에 저장을 할것인가"
   ]
  }
 ],
 "metadata": {
  "kernelspec": {
   "display_name": "base",
   "language": "python",
   "name": "python3"
  },
  "language_info": {
   "codemirror_mode": {
    "name": "ipython",
    "version": 3
   },
   "file_extension": ".py",
   "mimetype": "text/x-python",
   "name": "python",
   "nbconvert_exporter": "python",
   "pygments_lexer": "ipython3",
   "version": "3.9.12"
  },
  "orig_nbformat": 4
 },
 "nbformat": 4,
 "nbformat_minor": 2
}
