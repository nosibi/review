{
 "cells": [
  {
   "cell_type": "code",
   "execution_count": 2,
   "metadata": {},
   "outputs": [
    {
     "name": "stdout",
     "output_type": "stream",
     "text": [
      "이제 내가 돌아서려해\n",
      "다신 그 사람과 니 앞에서 보이지 않게\n",
      "이젠 너에게 어떤 바램도\n",
      "작은 기대조차 할 수 없는 나~잖아\n"
     ]
    }
   ],
   "source": [
    "from gtts import gTTS \n",
    "file_path = r\"C:\\\\파이썬\\\\40개의 작품\\\\텍스트를 음성으로\\\\my_text.txt\"\n",
    "\n",
    "# file_path를 열고 텍스트를 읽고(rt) 인코딩은 한국어(UTF8) 그리고 f로 취급\n",
    "with open(file_path,'rt', encoding = 'UTF8') as f:\n",
    "    read_file = f.read()\n",
    "    \n",
    "print(read_file)\n",
    "# 텍스트로 출력된다\n",
    "\n",
    "tts = gTTS(text = read_file, lang = 'ko')\n",
    "tts.save(r\"C:\\\\파이썬\\\\40개의 작품\\\\텍스트를 음성으로\\\\my text.mp3\")\n",
    "\n",
    "# save시 인터넷 연결이 안되어 있으면 라이브러리가 정상적으로 작동되지 않는다"
   ]
  }
 ],
 "metadata": {
  "kernelspec": {
   "display_name": "base",
   "language": "python",
   "name": "python3"
  },
  "language_info": {
   "codemirror_mode": {
    "name": "ipython",
    "version": 3
   },
   "file_extension": ".py",
   "mimetype": "text/x-python",
   "name": "python",
   "nbconvert_exporter": "python",
   "pygments_lexer": "ipython3",
   "version": "3.9.12"
  },
  "orig_nbformat": 4
 },
 "nbformat": 4,
 "nbformat_minor": 2
}
