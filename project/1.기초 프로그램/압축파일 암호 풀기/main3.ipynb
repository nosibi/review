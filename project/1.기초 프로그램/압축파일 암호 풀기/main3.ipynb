{
 "cells": [
  {
   "cell_type": "code",
   "execution_count": null,
   "metadata": {},
   "outputs": [],
   "source": [
    "import itertools #모든 경우의 수를 나열\n",
    "import zipfile\n",
    "\n",
    "def fun1(passward_string, min, max, zfile):\n",
    "    for len in range(min, max + 1):\n",
    "        attempt = itertools.product(passward_string, repeat = len)\n",
    "        for i in attempt:\n",
    "            passward = ''.join(i)\n",
    "            print(passward)\n",
    "            try:\n",
    "                zfile.extractall(pwd = passward.encode())\n",
    "                print(f'The passward is {passward}')\n",
    "                return 1\n",
    "            except:\n",
    "                pass\n",
    "\n",
    "passward_string = \"0123456789abcdefghijklmnopqrstuvwxyzABCDEFGHIJKLMNOPQRSTUVWXYZ\"\n",
    "zfile = zipfile.ZipFile(\"C:\\\\파이썬\\\\40개의 작품\\\\압축파일 암호 풀기\\\\암호.zip\")\n",
    "min = 1\n",
    "max = 5\n",
    "\n",
    "result = fun1(passward_string, min, max, zfile)\n",
    "\n",
    "if result == 1:\n",
    "    print(\"success\")\n",
    "    \n",
    "else:\n",
    "    print(\"fail\")"
   ]
  }
 ],
 "metadata": {
  "kernelspec": {
   "display_name": "base",
   "language": "python",
   "name": "python3"
  },
  "language_info": {
   "name": "python",
   "version": "3.9.12"
  },
  "orig_nbformat": 4
 },
 "nbformat": 4,
 "nbformat_minor": 2
}
