{
 "cells": [
  {
   "cell_type": "code",
   "execution_count": 2,
   "metadata": {},
   "outputs": [
    {
     "name": "stdout",
     "output_type": "stream",
     "text": [
      "data:image/jpeg;base64,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\n"
     ]
    },
    {
     "data": {
      "text/plain": [
       "('C:\\\\파이썬\\\\worldcup.jpg', <email.message.Message at 0x249ab80a100>)"
      ]
     },
     "execution_count": 2,
     "metadata": {},
     "output_type": "execute_result"
    }
   ],
   "source": [
    "#pip install webdriver-manager selenium\n",
    "# static crawling(fast,bs4) / dynamic crawling(easy,selenium)\n",
    "#dynamic crawling 이용\n",
    "#사용문법은 없음\n",
    "#driver.find_element와 elements의 차이는 찾아내려는 대상이 하나인지 그 이상인지\n",
    "\n",
    "# selector = #islrg > div.islrc > div:nth-child(2) > a.wXeWr.islib.nfEiy > div.bRMDJf.islir > img\n",
    "# search xpath = //*[@id=\"APjFqb\n",
    "\n",
    "from selenium.webdriver.common.keys import Keys #Keys.RETURN\n",
    "import time\n",
    "from selenium import webdriver\n",
    "from webdriver_manager.chrome import ChromeDriverManager  \n",
    "from selenium.webdriver.common.by import By #driver.find_element_by_ID -> driver.find_element(By.ID,) selenium추세\n",
    "from selenium.webdriver.chrome.service import Service \n",
    "import urllib.request #static crawling방식이 URL이 제공되었을 때 이미지를 바로 다운받기 위한 도구\n",
    "\n",
    "chrome_options = webdriver.ChromeOptions()\n",
    "driver = webdriver.Chrome(service = Service(ChromeDriverManager().install()),options = chrome_options)\n",
    "\n",
    "URL = \"https://www.google.co.kr/imghp\"\n",
    "driver.get(url = URL)\n",
    "driver.implicitly_wait(time_to_wait=10) # max 10초 기다린다, time.sleep과 다른개념, 10초 이내로 실행될 수 있으면 실행\n",
    "\n",
    "\n",
    "keyElement = driver.find_element(By.XPATH, '//*[@id=\"APjFqb\"]')\n",
    "keyElement.send_keys(\"worldcup\")\n",
    "keyElement.send_keys(Keys.RETURN)\n",
    "\n",
    "url = driver.find_element(By.CSS_SELECTOR,'#islrg > div.islrc > div:nth-child(2) > a.wXeWr.islib.nfEiy > div.bRMDJf.islir > img').get_attribute('src') #속성값\n",
    "print(url)\n",
    "urllib.request.urlretrieve(url,r'C:\\파이썬\\worldcup.jpg') #URL의 이미지를 다운받아서 저장"
   ]
  }
 ],
 "metadata": {
  "kernelspec": {
   "display_name": "base",
   "language": "python",
   "name": "python3"
  },
  "language_info": {
   "codemirror_mode": {
    "name": "ipython",
    "version": 3
   },
   "file_extension": ".py",
   "mimetype": "text/x-python",
   "name": "python",
   "nbconvert_exporter": "python",
   "pygments_lexer": "ipython3",
   "version": "3.9.12"
  },
  "orig_nbformat": 4
 },
 "nbformat": 4,
 "nbformat_minor": 2
}
