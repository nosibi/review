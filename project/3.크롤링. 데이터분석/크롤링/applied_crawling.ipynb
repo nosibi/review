{
 "cells": [
  {
   "cell_type": "code",
   "execution_count": 12,
   "metadata": {},
   "outputs": [
    {
     "name": "stdout",
     "output_type": "stream",
     "text": [
      "48\n"
     ]
    }
   ],
   "source": [
    "#사용문법 for, if\n",
    "#selenium\n",
    "# 크롤링 후 특정 영역만을 지정하여 저장하기\n",
    "#static - beautifulsoup / dynamic - selenium\n",
    "#fast 보통 개발자들이 사용 / slow but easy \n",
    "from selenium.webdriver.common.keys import Keys #Keys.RETURN\n",
    "import time\n",
    "from selenium import webdriver\n",
    "from webdriver_manager.chrome import ChromeDriverManager  \n",
    "from selenium.webdriver.common.by import By #driver.find_element_by_ID -> driver.find_element(By.ID,) selenium추세\n",
    "from selenium.webdriver.chrome.service import Service \n",
    "import urllib.request #static crawling방식이 URL이 제공되었을 때 이미지를 바로 다운받기 위한 도구\n",
    "\n",
    "chrome_options = webdriver.ChromeOptions()\n",
    "driver = webdriver.Chrome(service = Service(ChromeDriverManager().install()),options = chrome_options)\n",
    "\n",
    "URL = \"https://www.google.co.kr/imghp\"\n",
    "driver.get(url = URL)\n",
    "driver.implicitly_wait(time_to_wait=10) # max 10초 기다린다, time.sleep과 다른개념, 10초 이내로 실행될 수 있으면 실행\n",
    "\n",
    "\n",
    "keyElement = driver.find_element(By.XPATH, '//*[@id=\"APjFqb\"]')\n",
    "keyElement.send_keys(\"worldcup\")\n",
    "keyElement.send_keys(Keys.RETURN)\n",
    "\n",
    "#bodyElement를 정의, driver.find_element 이용, TAG_NAME을 이용하여 body만 찾겠다\n",
    "bodyElement = driver.find_element(By.TAG_NAME, 'Body')\n",
    "time.sleep(5)\n",
    "\n",
    "#0,1,...9까지 0.2초식 스크롤 내리기\n",
    "for i in range(10):\n",
    "    bodyElement.send_keys(Keys.PAGE_DOWN)\n",
    "    time.sleep(0.2)\n",
    "\n",
    "#islrg > div.islrc > div:nth-child(2) > a.wXeWr.islib.nfEiy > div.bRMDJf.islir > img\n",
    "#islrg > div.islrc > div:nth-child(3) > a.wXeWr.islib.nfEiy > div.bRMDJf.islir > img\n",
    "#islrg > div.islrc > div:nth-child(4) > a.wXeWr.islib.nfEiy > div.bRMDJf.islir > img\n",
    "#div:nth-child( )을 div로\n",
    "\n",
    "\n",
    "images = driver.find_elements(By.CSS_SELECTOR, '#islrg > div.islrc > div > a.wXeWr.islib.nfEiy > div.bRMDJf.islir > img')\n",
    "print(len(images))  # range(10)으로 몇개의 이미지를 가지고 올 수 있는지 확인\n",
    "\n",
    "imageURL = []\n",
    "for a in images:\n",
    "    if a.get_attribute('src') is not None:\n",
    "        imageURL.append(a.get_attribute('src'))\n",
    "        \n",
    "#print(imageURL) #이미지 URL을 출력\n",
    "\n",
    "for i, j in enumerate((imageURL)):  # enumerate는 인덱스와 원소로 이루어진 tuple형태로 출력 # i는 0,1,2...시퀀스 j는 원소\n",
    "    urllib.request.urlretrieve(j, 'C:\\\\파이썬\\\\crawling_image\\\\' + str(i) + '.jpg')\n",
    "    \n",
    "\n"
   ]
  }
 ],
 "metadata": {
  "kernelspec": {
   "display_name": "base",
   "language": "python",
   "name": "python3"
  },
  "language_info": {
   "codemirror_mode": {
    "name": "ipython",
    "version": 3
   },
   "file_extension": ".py",
   "mimetype": "text/x-python",
   "name": "python",
   "nbconvert_exporter": "python",
   "pygments_lexer": "ipython3",
   "version": "3.9.12"
  },
  "orig_nbformat": 4
 },
 "nbformat": 4,
 "nbformat_minor": 2
}
