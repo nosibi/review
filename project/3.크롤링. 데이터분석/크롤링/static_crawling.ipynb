{
 "cells": [
  {
   "cell_type": "code",
   "execution_count": null,
   "metadata": {},
   "outputs": [],
   "source": [
    "from urllib.request import urlopen\n",
    "from bs4 import BeautifulSoup\n",
    "\n",
    "html = urlopen(\"https://news.naver.com/\")\n",
    "object1 = BeautifulSoup(html, \"html.parser\")\n",
    "\n",
    "for link in object1.find_all(\"a\"):\n",
    "    print(link.text.strip(),link.get('href'))\n",
    "\n",
    "for link in object1.find_all(\"img\"):\n",
    "    print(link.text.strip(),link.get('src'))\n",
    "\n",
    "\n",
    "\n",
    "# a, href는 link를 가져오는것\n",
    "# img,src는 이미지\n",
    "\n",
    "import requests\n",
    "from bs4 import BeautifulSoup\n",
    "\n",
    "webpage = requests.get(\"https://www.naver.com\")\n",
    "variable = BeautifulSoup(webpage.content,\"html.parser\")\n",
    "\n",
    "for meta in variable.head.find_all('meta'):\n",
    "    print(meta.get('content'))"
   ]
  }
 ],
 "metadata": {
  "language_info": {
   "name": "python"
  },
  "orig_nbformat": 4
 },
 "nbformat": 4,
 "nbformat_minor": 2
}
