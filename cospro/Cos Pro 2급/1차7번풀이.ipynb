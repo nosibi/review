{
 "cells": [
  {
   "cell_type": "code",
   "execution_count": null,
   "metadata": {},
   "outputs": [],
   "source": [
    "def solution(scores):\n",
    "    count = 0\n",
    "    for s in scores:\n",
    "        if 650 <= s and s < 800:\n",
    "            count += 1\n",
    "    return count\n",
    "\n",
    "#다른 풀이\n",
    "# for i in range(len(scores)):\n",
    "#     if 650 <= scores[i] < 800 굳이?\n",
    "\n",
    "#The following is code to output testcase. The code below is correct and you shall correct solution function.\n",
    "scores = [650, 722, 914, 558, 714, 803, 650, 679, 669, 800]\n",
    "ret = solution(scores)\n",
    "\n",
    "#Press Run button to receive output.\n",
    "print(\"Solution: return value of the function is\", ret, \".\")"
   ]
  }
 ],
 "metadata": {
  "language_info": {
   "name": "python"
  },
  "orig_nbformat": 4
 },
 "nbformat": 4,
 "nbformat_minor": 2
}
