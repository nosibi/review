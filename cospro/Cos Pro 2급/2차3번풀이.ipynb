{
 "cells": [
  {
   "cell_type": "code",
   "execution_count": null,
   "metadata": {},
   "outputs": [],
   "source": [
    "#다음과 같이 import를 사용할 수 있습니다.\n",
    "#import math\n",
    "\n",
    "def solution(N, M):\n",
    "    answer = 0\n",
    "    for i in range(N,M + 1):\n",
    "        if i % 2 == 0:\n",
    "            answer += i**2\n",
    "        elif i % 2 != 0:\n",
    "            answer += 0\n",
    "    return answer\n",
    "\n",
    "#아래는 테스트케이스 출력을 해보기 위한 코드입니다.\n",
    "N = 4\n",
    "M = 7\n",
    "ret = solution(N, M)\n",
    "\n",
    "#[실행] 버튼을 누르면 출력 값을 볼 수 있습니다.\n",
    "print(\"solution 함수의 반환 값은\", ret, \"입니다.\")"
   ]
  }
 ],
 "metadata": {
  "language_info": {
   "name": "python"
  },
  "orig_nbformat": 4
 },
 "nbformat": 4,
 "nbformat_minor": 2
}
