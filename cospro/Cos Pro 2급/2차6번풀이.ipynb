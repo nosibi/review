{
 "cells": [
  {
   "cell_type": "code",
   "execution_count": 1,
   "metadata": {},
   "outputs": [
    {
     "name": "stdout",
     "output_type": "stream",
     "text": [
      "solution 함수의 반환 값은 7 입니다.\n"
     ]
    }
   ],
   "source": [
    "def solution(floors):\n",
    "    dist = 0\n",
    "    length = len(floors)\n",
    "    for i in range(1,len(floors)):\n",
    "        if floors[i] > floors[i-1]:\n",
    "            dist += floors[i] - floors[i-1]\n",
    "        else:\n",
    "            dist += floors[i-1] - floors[i]\n",
    "    return dist\n",
    "\n",
    "#아래는 테스트케이스 출력을 해보기 위한 코드입니다.\n",
    "floors = [1, 2, 5, 4, 2]\n",
    "ret = solution(floors)\n",
    "\n",
    "#[실행] 버튼을 누르면 출력 값을 볼 수 있습니다.\n",
    "print(\"solution 함수의 반환 값은\", ret, \"입니다.\")"
   ]
  }
 ],
 "metadata": {
  "kernelspec": {
   "display_name": "base",
   "language": "python",
   "name": "python3"
  },
  "language_info": {
   "codemirror_mode": {
    "name": "ipython",
    "version": 3
   },
   "file_extension": ".py",
   "mimetype": "text/x-python",
   "name": "python",
   "nbconvert_exporter": "python",
   "pygments_lexer": "ipython3",
   "version": "3.9.12"
  },
  "orig_nbformat": 4
 },
 "nbformat": 4,
 "nbformat_minor": 2
}
