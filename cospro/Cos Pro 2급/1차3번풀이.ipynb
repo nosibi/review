{
 "cells": [
  {
   "cell_type": "code",
   "execution_count": 1,
   "metadata": {},
   "outputs": [
    {
     "name": "stdout",
     "output_type": "stream",
     "text": [
      "Solution: return value of the function is 31 .\n"
     ]
    }
   ],
   "source": [
    "#1 반복문 이용\n",
    "def func_a(month, day):\n",
    "    month_list = [31, 28, 31, 30, 31, 30, 31, 31, 30, 31, 30, 31]\n",
    "    total = 0\n",
    "    for i in range(month-1):\n",
    "        total += month_list[i]\n",
    "    total += day\n",
    "    return total - 1 # 1월 1일이라는 하루를 제외해야 하므로\n",
    "        \n",
    "#2 연산자 이용\n",
    "def func_a(month,day):\n",
    "    month_list = [31, 28, 31, 30, 31, 30, 31, 31, 30, 31, 30, 31]\n",
    "    total = sum(month_list[:month-1]) + day\n",
    "    return total - 1\n",
    "\n",
    "\n",
    "\n",
    "\n",
    "\n",
    "def solution(start_month, start_day, end_month, end_day):\n",
    "    start_total = func_a(start_month, start_day)\n",
    "    end_total = func_a(end_month, end_day)\n",
    "    return end_total - start_total\n",
    "\n",
    "start_month = 1\n",
    "start_day = 2\n",
    "end_month = 2\n",
    "end_day = 2\n",
    "ret = solution(start_month, start_day, end_month, end_day)\n",
    "\n",
    "print(\"Solution: return value of the function is\", ret, \".\")"
   ]
  }
 ],
 "metadata": {
  "kernelspec": {
   "display_name": "base",
   "language": "python",
   "name": "python3"
  },
  "language_info": {
   "codemirror_mode": {
    "name": "ipython",
    "version": 3
   },
   "file_extension": ".py",
   "mimetype": "text/x-python",
   "name": "python",
   "nbconvert_exporter": "python",
   "pygments_lexer": "ipython3",
   "version": "3.9.12 (main, Apr  4 2022, 05:22:27) [MSC v.1916 64 bit (AMD64)]"
  },
  "orig_nbformat": 4,
  "vscode": {
   "interpreter": {
    "hash": "604d36363eafd9e67c1f556089da69fa54f9731189d50fdd5ef0c173bfd24ffb"
   }
  }
 },
 "nbformat": 4,
 "nbformat_minor": 2
}
