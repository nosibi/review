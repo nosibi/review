{
 "cells": [
  {
   "cell_type": "code",
   "execution_count": null,
   "metadata": {},
   "outputs": [],
   "source": [
    "max_product_number = 10\n",
    "\n",
    "def func_a(gloves):\n",
    "    counter = [0 for _ in range(max_product_number + 1)]\n",
    "    for x in gloves:\n",
    "        counter[x] += 1\n",
    "    return counter\n",
    "\n",
    "def solution(left_gloves, right_gloves):\n",
    "    left_counter = func_a(left_gloves)\n",
    "    right_counter = func_a(right_gloves)\n",
    "    \n",
    "    total = 0\n",
    "    for i in range(1, max_product_number + 1):\n",
    "        total += min(left_counter[i], right_counter[i])\n",
    "    return total\n",
    "\n",
    "#아래는 테스트케이스 출력을 해보기 위한 코드입니다.\n",
    "left_gloves = [2, 1, 2, 2, 4]\n",
    "right_gloves = [1, 2, 2, 4, 4, 7]\n",
    "ret = solution(left_gloves, right_gloves)\n",
    "\n",
    "#[실행] 버튼을 누르면 출력 값을 볼 수 있습니다.\n",
    "print(\"solution 함수의 반환 값은\", ret, \"입니다.\")"
   ]
  }
 ],
 "metadata": {
  "language_info": {
   "name": "python"
  },
  "orig_nbformat": 4
 },
 "nbformat": 4,
 "nbformat_minor": 2
}
