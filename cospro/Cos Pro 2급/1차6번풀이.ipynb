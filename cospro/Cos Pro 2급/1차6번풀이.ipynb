{
 "cells": [
  {
   "cell_type": "code",
   "execution_count": 2,
   "metadata": {},
   "outputs": [
    {
     "name": "stdout",
     "output_type": "stream",
     "text": [
      "1 2 pair 4 5 pair 7 8 pair 10 11 12 pair 14 15 pair 17 18 pair 20 21 22 pair 24 25 pair 27 28 pair pair pair pair pairpair pair pair pairpair pair pair pairpair 40 \n",
      "Solution: return value of the function is 22 .\n"
     ]
    }
   ],
   "source": [
    "def solution(number):\n",
    "    count = 0\n",
    "    for i in range(1, number + 1):\n",
    "        current = i\n",
    "        temp = count\n",
    "        while current != 0:\n",
    "            if current%10 == 3 or current%10 == 6 or current%10 == 9:\n",
    "                count += 1\n",
    "                print(\"pair\", end = '')\n",
    "            current = current // 10 \n",
    "            # n자리수를 자리수를 줄여줌. currnet = 0 이 될때(current가 한자리수) while 반복문을 빠져나갈 수 있다\n",
    "        if temp == count:\n",
    "            print(i, end = '')\n",
    "        print(\" \", end = '')\n",
    "    print(\"\")\n",
    "    return count\n",
    "\n",
    "#The following is code to output testcase.\n",
    "number = 40\n",
    "ret = solution(number)\n",
    "\n",
    "#Press Run button to receive output.\n",
    "print(\"Solution: return value of the function is\", ret, \".\")"
   ]
  }
 ],
 "metadata": {
  "kernelspec": {
   "display_name": "base",
   "language": "python",
   "name": "python3"
  },
  "language_info": {
   "codemirror_mode": {
    "name": "ipython",
    "version": 3
   },
   "file_extension": ".py",
   "mimetype": "text/x-python",
   "name": "python",
   "nbconvert_exporter": "python",
   "pygments_lexer": "ipython3",
   "version": "3.9.12"
  },
  "orig_nbformat": 4
 },
 "nbformat": 4,
 "nbformat_minor": 2
}
