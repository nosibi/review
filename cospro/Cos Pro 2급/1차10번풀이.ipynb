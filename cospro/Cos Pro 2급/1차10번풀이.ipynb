{
 "cells": [
  {
   "cell_type": "code",
   "execution_count": null,
   "metadata": {},
   "outputs": [],
   "source": [
    "def solution(data):\n",
    "    total = sum(data)\n",
    "    average = sum(data) / len(data)\n",
    "    cnt = 0\n",
    "    for d in data:\n",
    "        if d <= average:\n",
    "            cnt += 1\n",
    "    return cnt\n",
    "\n",
    "\n",
    "#The following is code to output testcase. The code below is correct and you shall correct solution function.\n",
    "data1 = [1, 2, 3, 4, 5, 6, 7, 8, 9, 10]\n",
    "ret1 = solution(data1)\n",
    "\n",
    "#Press Run button to receive output.\n",
    "print(\"Solution: return value of the function is\", ret1, \".\")\n",
    "    \n",
    "data2 = [1, 1, 1, 1, 1, 1, 1, 1, 1, 10]\n",
    "ret2 = solution(data2)\n",
    "\n",
    "#Press Run button to receive output.\n",
    "print(\"Solution: return value of the function is\", ret2, \".\")"
   ]
  }
 ],
 "metadata": {
  "language_info": {
   "name": "python"
  },
  "orig_nbformat": 4
 },
 "nbformat": 4,
 "nbformat_minor": 2
}
