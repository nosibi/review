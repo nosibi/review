{
 "cells": [
  {
   "cell_type": "code",
   "execution_count": 1,
   "metadata": {},
   "outputs": [
    {
     "name": "stdout",
     "output_type": "stream",
     "text": [
      "solution 함수의 반환 값은 2 입니다.\n"
     ]
    }
   ],
   "source": [
    "def solution(votes, N, K):\n",
    "    counter = [0 for _ in range(N + 1)] # 끝의 자리가 counter[x]가 될 경우 필요하기 때문에 N+1이어야 함\n",
    "    for x in votes:\n",
    "        counter[x] += 1\n",
    "    answer = 0\n",
    "    for c in counter:\n",
    "        if c == K:\n",
    "            answer += 1\n",
    "    return answer\n",
    "\n",
    "#아래는 테스트케이스 출력을 해보기 위한 코드입니다. 아래 코드는 잘못된 부분이 없으니, solution함수만 수정하세요.\n",
    "votes = [2, 5, 3, 4, 1, 5, 1, 5, 5, 3]\n",
    "N = 5\n",
    "K = 2\n",
    "ret = solution(votes, N, K)\n",
    "\n",
    "\n",
    "#[실행] 버튼을 누르면 출력 값을 볼 수 있습니다.\n",
    "print(\"solution 함수의 반환 값은\", ret, \"입니다.\")"
   ]
  }
 ],
 "metadata": {
  "kernelspec": {
   "display_name": "base",
   "language": "python",
   "name": "python3"
  },
  "language_info": {
   "codemirror_mode": {
    "name": "ipython",
    "version": 3
   },
   "file_extension": ".py",
   "mimetype": "text/x-python",
   "name": "python",
   "nbconvert_exporter": "python",
   "pygments_lexer": "ipython3",
   "version": "3.9.12"
  },
  "orig_nbformat": 4
 },
 "nbformat": 4,
 "nbformat_minor": 2
}
