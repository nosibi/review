{
 "cells": [
  {
   "cell_type": "code",
   "execution_count": null,
   "metadata": {},
   "outputs": [],
   "source": [
    "def func_a(arr):\n",
    "    count = 0\n",
    "    for n in arr:\n",
    "        if n % 5 == 0:\n",
    "            count += 1\n",
    "    return count\n",
    "\n",
    "def func_b(three, five):\n",
    "    if three > five:\n",
    "        return \"three\"\n",
    "    elif three < five:\n",
    "        return \"five\"\n",
    "    else:\n",
    "        return \"same\"\n",
    "\n",
    "def func_c(arr):\n",
    "    count = 0\n",
    "    for n in arr:\n",
    "        if n % 3 == 0:\n",
    "            count += 1\n",
    "    return count\n",
    "\n",
    "def solution(arr):\n",
    "    count_three = func_c(arr)\n",
    "    count_five = func_a(arr)\n",
    "    answer = func_b(count_three,count_five)\n",
    "    return answer\n",
    "\n",
    "#아래는 테스트케이스 출력을 해보기 위한 코드입니다.\n",
    "arr = [2, 3, 6, 9, 12, 15, 10, 20, 22, 25]\n",
    "ret = solution(arr)\n",
    "\n",
    "#[실행] 버튼을 누르면 출력 값을 볼 수 있습니다.\n",
    "print(\"solution 함수의 반환 값은\", ret, \"입니다.\")"
   ]
  }
 ],
 "metadata": {
  "language_info": {
   "name": "python"
  },
  "orig_nbformat": 4
 },
 "nbformat": 4,
 "nbformat_minor": 2
}
