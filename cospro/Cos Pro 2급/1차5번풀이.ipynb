{
 "cells": [
  {
   "cell_type": "code",
   "execution_count": 1,
   "metadata": {},
   "outputs": [
    {
     "name": "stdout",
     "output_type": "stream",
     "text": [
      "Solution: return value of the function is  [3, 2, 4, 1]  .\n"
     ]
    }
   ],
   "source": [
    "def solution(arr):\n",
    "    left, right = 0, len(arr)-1\n",
    "    # left는 0, right는 리스트의 마지막부터 시작\n",
    "    while left < right:\n",
    "        arr[left], arr[right] = arr[right], arr[left]\n",
    "        left += 1\n",
    "        right -= 1\n",
    "    return arr\n",
    "\n",
    "#The following is code to output testcase.\n",
    "arr = [1, 4, 2, 3]\n",
    "ret = solution(arr)\n",
    "\n",
    "#Press Run button to receive output.\n",
    "print(\"Solution: return value of the function is \", ret, \" .\")"
   ]
  }
 ],
 "metadata": {
  "kernelspec": {
   "display_name": "base",
   "language": "python",
   "name": "python3"
  },
  "language_info": {
   "codemirror_mode": {
    "name": "ipython",
    "version": 3
   },
   "file_extension": ".py",
   "mimetype": "text/x-python",
   "name": "python",
   "nbconvert_exporter": "python",
   "pygments_lexer": "ipython3",
   "version": "3.9.12"
  },
  "orig_nbformat": 4
 },
 "nbformat": 4,
 "nbformat_minor": 2
}
