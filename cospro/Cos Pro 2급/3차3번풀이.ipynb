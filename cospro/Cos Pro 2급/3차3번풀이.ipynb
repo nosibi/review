{
 "cells": [
  {
   "cell_type": "code",
   "execution_count": null,
   "metadata": {},
   "outputs": [],
   "source": [
    "#다음과 같이 import를 사용할 수 있습니다.\n",
    "#import math\n",
    "\n",
    "def solution(scores):\n",
    "    #여기에 코드를 작성해주세요.\n",
    "    answer = 0\n",
    "    return answer\n",
    "\n",
    "#아래는 테스트케이스 출력을 해보기 위한 코드입니다.\n",
    "scores1 = [35, 28, 98, 34, 20, 50, 85, 74, 71, 7]\n",
    "ret1 = solution(scores1)\n",
    "\n",
    "#[실행] 버튼을 누르면 출력 값을 볼 수 있습니다.\n",
    "print(\"solution 함수의 반환 값은\", ret1, \"입니다.\")\n",
    "\n",
    "scores2 = [1, 1, 1, 1, 1]\n",
    "ret2 = solution(scores2)\n",
    "\n",
    "#[실행] 버튼을 누르면 출력 값을 볼 수 있습니다.\n",
    "print(\"solution 함수의 반환 값은\", ret2, \"입니다.\")"
   ]
  }
 ],
 "metadata": {
  "language_info": {
   "name": "python"
  },
  "orig_nbformat": 4
 },
 "nbformat": 4,
 "nbformat_minor": 2
}
