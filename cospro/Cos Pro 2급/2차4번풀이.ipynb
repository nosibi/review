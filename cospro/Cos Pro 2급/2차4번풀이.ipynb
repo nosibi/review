{
 "cells": [
  {
   "cell_type": "code",
   "execution_count": 1,
   "metadata": {},
   "outputs": [
    {
     "name": "stdout",
     "output_type": "stream",
     "text": [
      "solution 함수의 반환 값은  favoritecolorviolet  입니다.\n",
      "solution 함수의 반환 값은  empty  입니다.\n"
     ]
    }
   ],
   "source": [
    "#다음과 같이 import를 사용할 수 있습니다.\n",
    "#import math\n",
    "\n",
    "def solution(words):\n",
    "    #여기에 코드를 작성해주세요.\n",
    "    answer = ''\n",
    "    for i in range(len(words)):\n",
    "        if len(words[i]) >= 5:\n",
    "            answer += words[i]\n",
    "    if answer == '':\n",
    "        answer = 'empty'\n",
    "    return answer\n",
    "\n",
    "#아래는 테스트케이스 출력을 해보기 위한 코드입니다.\n",
    "words1 = [\"my\", \"favorite\", \"color\", \"is\", \"violet\"]\n",
    "ret1 = solution(words1);\n",
    "\n",
    "#[실행] 버튼을 누르면 출력 값을 볼 수 있습니다.\n",
    "print(\"solution 함수의 반환 값은 \", ret1, \" 입니다.\")\n",
    "\n",
    "words2 = [\"yes\", \"i\", \"am\"]\n",
    "ret2 = solution(words2);\n",
    "\n",
    "#[실행] 버튼을 누르면 출력 값을 볼 수 있습니다.\n",
    "print(\"solution 함수의 반환 값은 \", ret2, \" 입니다.\")"
   ]
  }
 ],
 "metadata": {
  "kernelspec": {
   "display_name": "base",
   "language": "python",
   "name": "python3"
  },
  "language_info": {
   "codemirror_mode": {
    "name": "ipython",
    "version": 3
   },
   "file_extension": ".py",
   "mimetype": "text/x-python",
   "name": "python",
   "nbconvert_exporter": "python",
   "pygments_lexer": "ipython3",
   "version": "3.9.12"
  },
  "orig_nbformat": 4
 },
 "nbformat": 4,
 "nbformat_minor": 2
}
