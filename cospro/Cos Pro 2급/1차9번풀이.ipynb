{
 "cells": [
  {
   "cell_type": "code",
   "execution_count": null,
   "metadata": {},
   "outputs": [],
   "source": [
    "def solution(characters):\n",
    "    result = \"\"\n",
    "    result += characters[0] #밑의 반복문에서 i가 1부터 시작하기 때문에 0부터 시작하는 리스트값 필요!\n",
    "    for i in range(1,len(characters)):\n",
    "        if characters[i - 1] != characters[i]:\n",
    "            result += characters[i]\n",
    "    return result\n",
    "\n",
    "#The following is code to output testcase. The code below is correct and you shall correct solution function.\n",
    "characters = \"senteeeencccccceeee\"\n",
    "ret = solution(characters)\n",
    "\n",
    "#Press Run button to receive output.\n",
    "print(\"Solution: return value of the function is\", ret, \".\")"
   ]
  }
 ],
 "metadata": {
  "language_info": {
   "name": "python"
  },
  "orig_nbformat": 4
 },
 "nbformat": 4,
 "nbformat_minor": 2
}
