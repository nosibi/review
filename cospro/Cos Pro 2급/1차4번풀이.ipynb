{
 "cells": [
  {
   "cell_type": "code",
   "execution_count": 1,
   "metadata": {},
   "outputs": [
    {
     "name": "stdout",
     "output_type": "stream",
     "text": [
      "Solution: return value of the function is 2 .\n"
     ]
    }
   ],
   "source": [
    "def func_a(arr):\n",
    "    counter = [0 for _ in range(1001)]\n",
    "    for x in arr:\n",
    "        counter[x] += 1\n",
    "    return counter\n",
    "# 리스트 안에 있는 숫자에 해당하는 번째의 counter 리스트의 요소가 +1만큼 증가\n",
    "# counter = [0,0,0,0.....0] 인데 counter[2] += 1이면 counter = [0,0,1,0....0]\n",
    "\n",
    "def func_b(arr):\n",
    "    ret = 0\n",
    "    for x in arr:\n",
    "        if ret < x:\n",
    "            ret = x\n",
    "    return ret\n",
    "# 최댓값을 구하는 함수\n",
    "# ret = 0 이고 arr = [1,2,3,4,5]이면 ret는 1->2->...5\n",
    "\n",
    "def func_c(arr):\n",
    "    INF = 1001\n",
    "    ret = INF\n",
    "    for x in arr:\n",
    "        if x != 0 and ret > x: # x가 0이 아니고 ret가 x보다 클경우\n",
    "            ret = x\n",
    "    return ret\n",
    "# 최솟값을 구하는 함수\n",
    "# ret = 1001 이고 arr = [1,2,3,4,5]이면 ret는 1\n",
    "\n",
    "def solution(arr):\n",
    "    counter = func_a(arr)\n",
    "    max_cnt = func_b(counter)\n",
    "    min_cnt = func_c(counter)\n",
    "    return max_cnt // min_cnt\n",
    "\n",
    "#The following is code to output testcase.\n",
    "arr = [1, 2, 3, 3, 1, 3, 3, 2, 3, 2]\n",
    "ret = solution(arr)\n",
    "\n",
    "#Press Run button to receive output.\n",
    "print(\"Solution: return value of the function is\", ret, \".\")"
   ]
  }
 ],
 "metadata": {
  "kernelspec": {
   "display_name": "base",
   "language": "python",
   "name": "python3"
  },
  "language_info": {
   "codemirror_mode": {
    "name": "ipython",
    "version": 3
   },
   "file_extension": ".py",
   "mimetype": "text/x-python",
   "name": "python",
   "nbconvert_exporter": "python",
   "pygments_lexer": "ipython3",
   "version": "3.9.12"
  },
  "orig_nbformat": 4,
  "vscode": {
   "interpreter": {
    "hash": "604d36363eafd9e67c1f556089da69fa54f9731189d50fdd5ef0c173bfd24ffb"
   }
  }
 },
 "nbformat": 4,
 "nbformat_minor": 2
}
