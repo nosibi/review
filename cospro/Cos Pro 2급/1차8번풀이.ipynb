{
 "cells": [
  {
   "cell_type": "code",
   "execution_count": null,
   "metadata": {},
   "outputs": [],
   "source": [
    "def solution(sentence):\n",
    "    str = ''\n",
    "    for c in sentence:\n",
    "        if c != '.' and c != ' ': \n",
    "            # if c != '.' or c != ' '\n",
    "            # 둘 중 하나라도 참이면 참이 되버림\n",
    "            # 따라서 and 즉, .도 공백도 아닌 문자가 와야 참이 됨\n",
    "            str += c\n",
    "    size = len(str)\n",
    "    for i in range(size // 2):\n",
    "        if str[i] != str[size - 1 - i]:\n",
    "            return False\n",
    "    return True\n",
    "\n",
    "#The following is code to output testcase. The code below is correct and you shall correct solution function.\n",
    "sentence1 = \"never odd or even.\"\n",
    "ret1 = solution(sentence1)\n",
    "\n",
    "#Press Run button to receive output.\n",
    "print(\"Solution: return value of the function is\", ret1, \".\")\n",
    "    \n",
    "sentence2 = \"palindrome\"\n",
    "ret2 = solution(sentence2)\n",
    "\n",
    "#Press Run button to receive output.\n",
    "print(\"Solution: return value of the function is\", ret2, \".\")"
   ]
  }
 ],
 "metadata": {
  "language_info": {
   "name": "python"
  },
  "orig_nbformat": 4
 },
 "nbformat": 4,
 "nbformat_minor": 2
}
