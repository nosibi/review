{
 "cells": [
  {
   "cell_type": "code",
   "execution_count": null,
   "metadata": {},
   "outputs": [],
   "source": [
    "def func_a(scores, score):\n",
    "    rank = 1\n",
    "    for s in scores:\n",
    "        if s == score:\n",
    "            return rank\n",
    "        rank += 1\n",
    "    return 0\n",
    "\n",
    "def func_b(arr):\n",
    "    arr.sort(reverse=True)\n",
    "\n",
    "def func_c(arr, n):\n",
    "    return arr[n]\n",
    "\n",
    "def solution(scores, n):\n",
    "    score = func_@@@(@@@)\n",
    "    func_@@@(@@@)\n",
    "    answer = func_@@@(@@@)\n",
    "    return answer\n",
    "\n",
    "#아래는 테스트케이스 출력을 해보기 위한 코드입니다.\n",
    "scores = [20, 60, 98, 59]\n",
    "n = 3\n",
    "ret = solution(scores, n)\n",
    "\n",
    "#[실행] 버튼을 누르면 출력 값을 볼 수 있습니다.\n",
    "print(\"solution 함수의 반환 값은\", ret, \"입니다.\")"
   ]
  }
 ],
 "metadata": {
  "language_info": {
   "name": "python"
  },
  "orig_nbformat": 4
 },
 "nbformat": 4,
 "nbformat_minor": 2
}
