{
 "cells": [
  {
   "cell_type": "code",
   "execution_count": 1,
   "metadata": {},
   "outputs": [
    {
     "name": "stdout",
     "output_type": "stream",
     "text": [
      "solution 함수의 반환 값은 100000 입니다.\n"
     ]
    }
   ],
   "source": [
    "def solution(purchase):\n",
    "    total = 0\n",
    "    for p in purchase:\n",
    "        if p >= 1000000:\n",
    "            total += 50000\n",
    "        elif p >= 600000:\n",
    "            total += 30000\n",
    "        elif p >= 400000:\n",
    "            total += 20000\n",
    "        elif p >= 200000:\n",
    "            total += 10000\n",
    "    return total\n",
    "\n",
    "#아래는 테스트케이스 출력을 해보기 위한 코드입니다. 아래 코드는 잘못된 부분이 없으니, solution함수만 수정하세요.\n",
    "purchase = [150000, 210000, 399990, 990000, 1000000]\n",
    "ret = solution(purchase)\n",
    "\n",
    "\n",
    "#[실행] 버튼을 누르면 출력 값을 볼 수 있습니다.\n",
    "print(\"solution 함수의 반환 값은\", ret, \"입니다.\")"
   ]
  }
 ],
 "metadata": {
  "kernelspec": {
   "display_name": "base",
   "language": "python",
   "name": "python3"
  },
  "language_info": {
   "codemirror_mode": {
    "name": "ipython",
    "version": 3
   },
   "file_extension": ".py",
   "mimetype": "text/x-python",
   "name": "python",
   "nbconvert_exporter": "python",
   "pygments_lexer": "ipython3",
   "version": "3.9.12"
  },
  "orig_nbformat": 4
 },
 "nbformat": 4,
 "nbformat_minor": 2
}
