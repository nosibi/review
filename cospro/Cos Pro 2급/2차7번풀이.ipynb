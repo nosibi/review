{
 "cells": [
  {
   "cell_type": "code",
   "execution_count": 2,
   "metadata": {},
   "outputs": [
    {
     "name": "stdout",
     "output_type": "stream",
     "text": [
      "solution 함수의 반환 값은 980 입니다.\n"
     ]
    }
   ],
   "source": [
    "def solution(value, unit):\n",
    "    converted = 0\n",
    "    if unit == \"C\":\n",
    "        value = value * 1.8 + 32\n",
    "    elif unit == \"F\":\n",
    "        value = (value - 32) / 1.8\n",
    "    converted = int(value)\n",
    "    return converted\n",
    "\n",
    "#아래는 테스트케이스 출력을 해보기 위한 코드입니다. 아래 코드는 잘못된 부분이 없으니, solution함수만 수정하세요.\n",
    "value = 527\n",
    "unit = \"C\"\n",
    "ret = solution(value, unit)\n",
    "\n",
    "\n",
    "#[실행] 버튼을 누르면 출력 값을 볼 수 있습니다.\n",
    "print(\"solution 함수의 반환 값은\", ret, \"입니다.\")"
   ]
  }
 ],
 "metadata": {
  "kernelspec": {
   "display_name": "base",
   "language": "python",
   "name": "python3"
  },
  "language_info": {
   "codemirror_mode": {
    "name": "ipython",
    "version": 3
   },
   "file_extension": ".py",
   "mimetype": "text/x-python",
   "name": "python",
   "nbconvert_exporter": "python",
   "pygments_lexer": "ipython3",
   "version": "3.9.12"
  },
  "orig_nbformat": 4
 },
 "nbformat": 4,
 "nbformat_minor": 2
}
