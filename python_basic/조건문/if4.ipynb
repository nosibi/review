{
 "cells": [
  {
   "cell_type": "code",
   "execution_count": 2,
   "metadata": {},
   "outputs": [
    {
     "name": "stdout",
     "output_type": "stream",
     "text": [
      "두 조건 중 하나라도 만족하면\n"
     ]
    }
   ],
   "source": [
    "a = input(\"a값\")\n",
    "b = input(\"b값\")\n",
    "c = input(\"c값\")\n",
    "d = input(\"d값\")\n",
    "if a == b and c == d:\n",
    "    print(\"두 조건 모두 만족\")\n",
    "elif a == b or c == d:\n",
    "    print(\"두 조건 중 하나라도 만족하면\")\n",
    "    \n"
   ]
  }
 ],
 "metadata": {
  "kernelspec": {
   "display_name": "Python 3.9.10 64-bit",
   "language": "python",
   "name": "python3"
  },
  "language_info": {
   "codemirror_mode": {
    "name": "ipython",
    "version": 3
   },
   "file_extension": ".py",
   "mimetype": "text/x-python",
   "name": "python",
   "nbconvert_exporter": "python",
   "pygments_lexer": "ipython3",
   "version": "3.9.10"
  },
  "orig_nbformat": 4,
  "vscode": {
   "interpreter": {
    "hash": "42b99e361eecedf0285721dae0161f2b8afcc7f59eff1c9c993bef14ae48268a"
   }
  }
 },
 "nbformat": 4,
 "nbformat_minor": 2
}
