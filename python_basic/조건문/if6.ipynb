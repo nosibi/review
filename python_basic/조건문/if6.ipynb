{
 "cells": [
  {
   "cell_type": "code",
   "execution_count": 3,
   "metadata": {},
   "outputs": [
    {
     "name": "stdout",
     "output_type": "stream",
     "text": [
      "hello python 문자열이 같습니다\n",
      "hello가 포함되어 있습니다\n",
      "hi가 문자열에 포함되어 있지 않습니다\n"
     ]
    }
   ],
   "source": [
    "a_str = \"hello python\"\n",
    "if a_str == \"hello python\":\n",
    "    print(\"hello python 문자열이 같습니다\")\n",
    "if a_str == \"hi python\":\n",
    "    print(\"hi python문자열이 같습니다\")\n",
    "if \"hello\" in a_str:\n",
    "    print(\"hello가 포함되어 있습니다\")\n",
    "if \"hi\" not in a_str:\n",
    "    print(\"hi가 문자열에 포함되어 있지 않습니다\")\n",
    "    "
   ]
  }
 ],
 "metadata": {
  "kernelspec": {
   "display_name": "Python 3.9.10 64-bit",
   "language": "python",
   "name": "python3"
  },
  "language_info": {
   "codemirror_mode": {
    "name": "ipython",
    "version": 3
   },
   "file_extension": ".py",
   "mimetype": "text/x-python",
   "name": "python",
   "nbconvert_exporter": "python",
   "pygments_lexer": "ipython3",
   "version": "3.9.10"
  },
  "orig_nbformat": 4,
  "vscode": {
   "interpreter": {
    "hash": "42b99e361eecedf0285721dae0161f2b8afcc7f59eff1c9c993bef14ae48268a"
   }
  }
 },
 "nbformat": 4,
 "nbformat_minor": 2
}
