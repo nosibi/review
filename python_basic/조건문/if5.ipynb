{
 "cells": [
  {
   "cell_type": "code",
   "execution_count": 4,
   "metadata": {},
   "outputs": [
    {
     "name": "stdout",
     "output_type": "stream",
     "text": [
      "a<b\n",
      "d가 더 크거나 같다\n"
     ]
    }
   ],
   "source": [
    "a = input(\"a값을 입력\")\n",
    "b = input(\"b값을 입력\")\n",
    "\n",
    "if a >= b:\n",
    "    print(\"a값이 더 크거나 같다\")\n",
    "else:\n",
    "    print(\"a<b\")\n",
    "    \n",
    "    \n",
    "c = input(\"c값을 입력\")\n",
    "d = input(\"d값을 입력\")\n",
    "if c >= d:\n",
    "    print(\"c가 더 크거나 같다\")\n",
    "if c <= d:\n",
    "    print(\"d가 더 크거나 같다\")\n",
    "    \n"
   ]
  }
 ],
 "metadata": {
  "kernelspec": {
   "display_name": "Python 3.9.10 64-bit",
   "language": "python",
   "name": "python3"
  },
  "language_info": {
   "codemirror_mode": {
    "name": "ipython",
    "version": 3
   },
   "file_extension": ".py",
   "mimetype": "text/x-python",
   "name": "python",
   "nbconvert_exporter": "python",
   "pygments_lexer": "ipython3",
   "version": "3.9.10"
  },
  "orig_nbformat": 4,
  "vscode": {
   "interpreter": {
    "hash": "42b99e361eecedf0285721dae0161f2b8afcc7f59eff1c9c993bef14ae48268a"
   }
  }
 },
 "nbformat": 4,
 "nbformat_minor": 2
}
