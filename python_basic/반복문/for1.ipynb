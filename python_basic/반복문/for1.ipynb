{
 "cells": [
  {
   "cell_type": "code",
   "execution_count": 1,
   "metadata": {},
   "outputs": [
    {
     "name": "stdout",
     "output_type": "stream",
     "text": [
      "0\n",
      "1\n",
      "2\n",
      "3\n",
      "4\n",
      "5\n",
      "6\n"
     ]
    }
   ],
   "source": [
    "# for구문: 반복되는 부분이나 범위를 구체적으로 지정해서 실행\n",
    "\n",
    "for i in range(7):\n",
    "    print(i)\n",
    "    \n",
    "# range(7) = 0부터 (7-1)까지를 의미\n",
    "# for i in range(7) = 0부터 (7-1)까지 반복하라\n",
    "# i 값은 요소를 출력\n",
    "# i의 이름은 자유롭게 변경가능"
   ]
  }
 ],
 "metadata": {
  "kernelspec": {
   "display_name": "Python 3.9.10 64-bit",
   "language": "python",
   "name": "python3"
  },
  "language_info": {
   "codemirror_mode": {
    "name": "ipython",
    "version": 3
   },
   "file_extension": ".py",
   "mimetype": "text/x-python",
   "name": "python",
   "nbconvert_exporter": "python",
   "pygments_lexer": "ipython3",
   "version": "3.9.10"
  },
  "orig_nbformat": 4,
  "vscode": {
   "interpreter": {
    "hash": "42b99e361eecedf0285721dae0161f2b8afcc7f59eff1c9c993bef14ae48268a"
   }
  }
 },
 "nbformat": 4,
 "nbformat_minor": 2
}
