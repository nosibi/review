{
 "cells": [
  {
   "cell_type": "code",
   "execution_count": 4,
   "metadata": {},
   "outputs": [
    {
     "name": "stdout",
     "output_type": "stream",
     "text": [
      "kate is 12\n",
      "amy is 32\n",
      "john is 23\n",
      "[0, 1, 2, 3, 4, 5, 6, 7, 8, 9]\n",
      "[0, 1, 2, 3, 4, 5, 6, 7, 8, 9]\n"
     ]
    }
   ],
   "source": [
    "# len함수 이용하여 리스트의 길이만큼을 range에 입력\n",
    "\n",
    "name = ['kate','amy','john']\n",
    "age = [12,32,23]\n",
    "\n",
    "for i in range(len(name)):\n",
    "    print(name[i],end = ' is ')\n",
    "    print(age[i])\n",
    "\n",
    "\n",
    "list1 = [a for a in range(10)]\n",
    "print(list1)\n",
    "\n",
    "\n",
    "#append는 리스트에 값을 넣을때 사용\n",
    "list2 = []\n",
    "for a in range(10):\n",
    "    list2.append(a)\n",
    "print(list2)\n",
    "\n"
   ]
  }
 ],
 "metadata": {
  "kernelspec": {
   "display_name": "Python 3.9.10 64-bit",
   "language": "python",
   "name": "python3"
  },
  "language_info": {
   "codemirror_mode": {
    "name": "ipython",
    "version": 3
   },
   "file_extension": ".py",
   "mimetype": "text/x-python",
   "name": "python",
   "nbconvert_exporter": "python",
   "pygments_lexer": "ipython3",
   "version": "3.9.10"
  },
  "orig_nbformat": 4,
  "vscode": {
   "interpreter": {
    "hash": "42b99e361eecedf0285721dae0161f2b8afcc7f59eff1c9c993bef14ae48268a"
   }
  }
 },
 "nbformat": 4,
 "nbformat_minor": 2
}
