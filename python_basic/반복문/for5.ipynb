{
 "cells": [
  {
   "cell_type": "code",
   "execution_count": 9,
   "metadata": {},
   "outputs": [
    {
     "name": "stdout",
     "output_type": "stream",
     "text": [
      "i= 0/k= python\n",
      "i= 1/k= java\n",
      "i= 2/k= C\n",
      "c= 0\n",
      "d= python\n",
      "c= 1\n",
      "d= java\n",
      "c= 2\n",
      "d= C\n",
      "번호 = 0 내용 = python\n",
      "번호 = 1 내용 = java\n",
      "번호 = 2 내용 = C\n"
     ]
    }
   ],
   "source": [
    "a = ['python','java','C']\n",
    "\n",
    "for i,k in enumerate(a):\n",
    "    print(\"i=\", i,end='/')\n",
    "    print(\"k=\",k)\n",
    "    \n",
    "# end 함수를 뺄 경우\n",
    "for c,d in enumerate(a):\n",
    "    print(\"c=\",c)\n",
    "    print(\"d=\",d)\n",
    "    \n",
    "\n",
    "# 다른 형식으로 한다면?\n",
    "for e,f in enumerate(a):\n",
    "    print(\"번호 = {} 내용 = {}\".format(e,f))\n",
    "    \n",
    "    "
   ]
  }
 ],
 "metadata": {
  "kernelspec": {
   "display_name": "Python 3.9.10 64-bit",
   "language": "python",
   "name": "python3"
  },
  "language_info": {
   "codemirror_mode": {
    "name": "ipython",
    "version": 3
   },
   "file_extension": ".py",
   "mimetype": "text/x-python",
   "name": "python",
   "nbconvert_exporter": "python",
   "pygments_lexer": "ipython3",
   "version": "3.9.10 (tags/v3.9.10:f2f3f53, Jan 17 2022, 15:14:21) [MSC v.1929 64 bit (AMD64)]"
  },
  "orig_nbformat": 4,
  "vscode": {
   "interpreter": {
    "hash": "42b99e361eecedf0285721dae0161f2b8afcc7f59eff1c9c993bef14ae48268a"
   }
  }
 },
 "nbformat": 4,
 "nbformat_minor": 2
}
