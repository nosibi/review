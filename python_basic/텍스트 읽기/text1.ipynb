{
 "cells": [
  {
   "cell_type": "code",
   "execution_count": 5,
   "metadata": {},
   "outputs": [
    {
     "name": "stdout",
     "output_type": "stream",
     "text": [
      "차가워진 눈빛을 바라보며\n",
      "이별의 말을 전해 들어요\n",
      "아무 의미 없던 노래 가사가\n",
      "아프게 귓가에 맴돌아요\n",
      "다시 겨울이 시작되듯이\n",
      "흩어지는 눈 사이로\n",
      "그대 내 맘에 쌓여만 가네\n",
      "떠나지 말라는\n",
      "그런 말도 하지 못하고\n",
      "고개를 떨구던 뒷모습만\n",
      "그대 내게 오지 말아요\n",
      "두 번 다시 이런 사랑하지 마요\n",
      "그댈 추억하기보단 기다리는 게\n",
      "부서진 내 맘이 더 아파 와\n",
      "다시 누군가를 만나서\n",
      "결국 우리 사랑 지워내도\n",
      "행복했던 것만 기억에 남아\n",
      "나를 천천히 잊어주기를\n",
      "아무것도 마음대로 안 돼요\n",
      "아픔은 그저 나를 따라와\n",
      "밤새도록 커져 버린 그리움\n",
      "언제쯤 익숙해져 가나요\n",
      "많은 날들이 떠오르네요\n",
      "우리가 나눴던 날들\n",
      "애써 감추고 돌아서네요\n",
      "떠나지 말라는\n",
      "그런 말도 하지 못하고\n",
      "고개를 떨구던 뒷모습만\n",
      "그대 내게 오지 말아요\n",
      "두 번 다시 이런 사랑하지 마요\n",
      "그댈 추억하기보단 기다리는 게\n",
      "부서진 내 맘이 더 아파 와\n",
      "다시 누군가를 만나서\n",
      "결국 우리 사랑 지워내도\n",
      "행복했던 것만 기억에 남아\n",
      "나를 천천히 잊어주기를\n",
      "부를 수도 없이 멀어진 그대가\n",
      "지나치는 바람에도 목이 메어와\n",
      "어디에도 그대가 살아서\n",
      "우린 사랑하면 안 돼요\n",
      "다가갈수록 미워지니까\n",
      "행복했던 것만 기억에 남아\n",
      "나를 천천히 잊어가기를\n",
      "사랑했던\n"
     ]
    }
   ],
   "source": [
    "file = r\"C:\\\\PYTHON\\\\python_basic\\\\텍스트 읽기\\\\어디에도.txt\"\n",
    "#가져올 텍스트 파일의 경로를 복사\n",
    "\n",
    "#열고자 하는 파일, 기능(rt는 read text),인코딩(언어,UTF8은 한국어)\n",
    "#as f는 f로 취급하겠다, 즉 f는 open~을 뜻한다\n",
    "with open(file,'rt',encoding='UTF8') as f:\n",
    "    read1 = f.readlines() #여러줄 읽기\n",
    "    for line in read1:\n",
    "        line = line.strip() #strip을 안하면 \\n 이런식으로 표기됨\n",
    "        print(line)\n"
   ]
  }
 ],
 "metadata": {
  "kernelspec": {
   "display_name": "base",
   "language": "python",
   "name": "python3"
  },
  "language_info": {
   "codemirror_mode": {
    "name": "ipython",
    "version": 3
   },
   "file_extension": ".py",
   "mimetype": "text/x-python",
   "name": "python",
   "nbconvert_exporter": "python",
   "pygments_lexer": "ipython3",
   "version": "3.9.10"
  },
  "orig_nbformat": 4
 },
 "nbformat": 4,
 "nbformat_minor": 2
}
