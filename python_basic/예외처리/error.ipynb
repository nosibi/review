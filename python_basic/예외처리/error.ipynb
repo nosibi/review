{
 "cells": [
  {
   "cell_type": "code",
   "execution_count": 6,
   "metadata": {},
   "outputs": [
    {
     "name": "stdout",
     "output_type": "stream",
     "text": [
      "error is occured : division by zero\n",
      "값의 형태가 다름\n"
     ]
    }
   ],
   "source": [
    "# 에러가 왜 발생했는지\n",
    "# except 뒤에 Exception as err\n",
    "# err부분은 다른 이름으로 표기해도 상관없음\n",
    "num1 = 3\n",
    "num2 = 0\n",
    "\n",
    "try:\n",
    "    result = num1 / num2\n",
    "    print(f\"The result is {result}\")\n",
    "except Exception as err:\n",
    "    print(\"error is occured :\",err)\n",
    "\n",
    "\n",
    "# 에러의 종류에 따라 서로 다른 처리를 하고 싶은 경우\n",
    "#python exceptions 구글링\n",
    "v1 = 1\n",
    "v2 = \"string\"\n",
    "\n",
    "try:\n",
    "    value = v1 / v2\n",
    "    print(f\"result is {value}\")\n",
    "except ZeroDivisionError: #에러 종류1\n",
    "    print(\"0으로 나눌 수 없음\")\n",
    "except TypeError: #에러 종류2\n",
    "    print(\"값의 형태가 다름\")\n",
    "except Exception as err: # 표기한 에러에 전부 해당하지 않을 경우\n",
    "    print(\"error is occured by \",err)"
   ]
  }
 ],
 "metadata": {
  "kernelspec": {
   "display_name": "Python 3",
   "language": "python",
   "name": "python3"
  },
  "language_info": {
   "codemirror_mode": {
    "name": "ipython",
    "version": 3
   },
   "file_extension": ".py",
   "mimetype": "text/x-python",
   "name": "python",
   "nbconvert_exporter": "python",
   "pygments_lexer": "ipython3",
   "version": "3.9.10"
  },
  "orig_nbformat": 4
 },
 "nbformat": 4,
 "nbformat_minor": 2
}
