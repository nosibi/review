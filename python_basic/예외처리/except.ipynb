{
 "cells": [
  {
   "cell_type": "code",
   "execution_count": 13,
   "metadata": {},
   "outputs": [
    {
     "name": "stdout",
     "output_type": "stream",
     "text": [
      "The result is 1.0\n",
      "no error\n",
      "last sentence\n"
     ]
    }
   ],
   "source": [
    "# try:\n",
    "#     수행 문장\n",
    "# except:\n",
    "#     에러 발생 시 수행 문장\n",
    "# else:\n",
    "#     정상 작동 시 수행 문장\n",
    "# finally:\n",
    "#     마지막으로 수행할 문장(에러 여부와 상관없이 항상 수행)\n",
    "\n",
    "try:\n",
    "    result = num1 / num2\n",
    "    print(f\"The result is {result}\")\n",
    "except:\n",
    "    print(\"error is occured\")\n",
    "else:\n",
    "    print(\"no error\")\n",
    "finally:\n",
    "    print(\"last sentence\")\n",
    "num1 = 9\n",
    "num2 = 9"
   ]
  }
 ],
 "metadata": {
  "kernelspec": {
   "display_name": "Python 3",
   "language": "python",
   "name": "python3"
  },
  "language_info": {
   "codemirror_mode": {
    "name": "ipython",
    "version": 3
   },
   "file_extension": ".py",
   "mimetype": "text/x-python",
   "name": "python",
   "nbconvert_exporter": "python",
   "pygments_lexer": "ipython3",
   "version": "3.9.10"
  },
  "orig_nbformat": 4
 },
 "nbformat": 4,
 "nbformat_minor": 2
}
