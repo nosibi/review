{
 "cells": [
  {
   "cell_type": "code",
   "execution_count": 2,
   "metadata": {},
   "outputs": [
    {
     "name": "stdout",
     "output_type": "stream",
     "text": [
      "This is subclass's info\n"
     ]
    }
   ],
   "source": [
    "# method overriding\n",
    "# 서브클래스가 상위클래스의 메소드를 가지고 있을 경우 서브클래스의 메소드가 호출\n",
    "\n",
    "class PC():\n",
    "    def __init__(self,name,price):\n",
    "        self.name = name\n",
    "        self.price = price\n",
    "    def info(self):\n",
    "        return \"제품명 %s 가격은 %s원\"%(self.name,self.price)\n",
    "    \n",
    "    \n",
    "class LG(PC): # 괄호안에 상위클래스를 입력하면 상속\n",
    "    def __init__(self,name,price):\n",
    "        super().__init__(name,price)\n",
    "        self.name = name\n",
    "    def model(self):\n",
    "        return \"your PC's name is : %s \" %(self.name)\n",
    "    def info(self):\n",
    "        return \"This is subclass's info\"\n",
    "        \n",
    "\n",
    "model1 = LG(\"Gram\",170000)\n",
    "print(model1.info())    "
   ]
  }
 ],
 "metadata": {
  "kernelspec": {
   "display_name": "Python 3.9.10 64-bit",
   "language": "python",
   "name": "python3"
  },
  "language_info": {
   "codemirror_mode": {
    "name": "ipython",
    "version": 3
   },
   "file_extension": ".py",
   "mimetype": "text/x-python",
   "name": "python",
   "nbconvert_exporter": "python",
   "pygments_lexer": "ipython3",
   "version": "3.9.10"
  },
  "orig_nbformat": 4,
  "vscode": {
   "interpreter": {
    "hash": "42b99e361eecedf0285721dae0161f2b8afcc7f59eff1c9c993bef14ae48268a"
   }
  }
 },
 "nbformat": 4,
 "nbformat_minor": 2
}
