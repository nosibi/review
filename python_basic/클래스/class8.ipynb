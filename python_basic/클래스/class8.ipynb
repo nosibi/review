{
 "cells": [
  {
   "cell_type": "code",
   "execution_count": 1,
   "metadata": {},
   "outputs": [
    {
     "name": "stdout",
     "output_type": "stream",
     "text": [
      "엄마는\n",
      "3대 700이다\n",
      "유산소를 잘 못한다\n",
      "노래를 잘부른다\n",
      "---------\n",
      "딸은\n",
      "키가크다\n"
     ]
    }
   ],
   "source": [
    "# __init__ 은 객체를 생성하자마자 실행하는 함수\n",
    "class mother():\n",
    "    def __init__(self):\n",
    "        print(\"3대 700이다\")\n",
    "        print(\"유산소를 잘 못한다\")\n",
    "        print(\"노래를 잘부른다\")\n",
    "class daughter():\n",
    "    def __init__(self):\n",
    "        super().__init__()\n",
    "        print(\"키가크다\")\n",
    "\n",
    "print(\"엄마는\")\n",
    "엄마 = mother()\n",
    "print(\"---------\")\n",
    "print(\"딸은\")\n",
    "딸 = daughter()\n",
    "\n"
   ]
  }
 ],
 "metadata": {
  "kernelspec": {
   "display_name": "Python 3.9.10 64-bit",
   "language": "python",
   "name": "python3"
  },
  "language_info": {
   "codemirror_mode": {
    "name": "ipython",
    "version": 3
   },
   "file_extension": ".py",
   "mimetype": "text/x-python",
   "name": "python",
   "nbconvert_exporter": "python",
   "pygments_lexer": "ipython3",
   "version": "3.9.10"
  },
  "orig_nbformat": 4,
  "vscode": {
   "interpreter": {
    "hash": "42b99e361eecedf0285721dae0161f2b8afcc7f59eff1c9c993bef14ae48268a"
   }
  }
 },
 "nbformat": 4,
 "nbformat_minor": 2
}
