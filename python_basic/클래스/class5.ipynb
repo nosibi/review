{
 "cells": [
  {
   "cell_type": "code",
   "execution_count": 11,
   "metadata": {},
   "outputs": [
    {
     "name": "stdout",
     "output_type": "stream",
     "text": [
      "제품명 Gram 가격은 170000원\n"
     ]
    }
   ],
   "source": [
    "# 클래스 상속\n",
    "# 상위클래스(슈퍼클래스,부모) / 하위클래스(서브클래스,자식)\n",
    "# 서브클래스는 상위클래스의 모든 속성과 메소드 사용 가능\n",
    "\n",
    "\n",
    "class PC():\n",
    "    def __init__(self,name,price):\n",
    "        self.name = name\n",
    "        self.price = price\n",
    "    def info(self):\n",
    "        return \"제품명 %s 가격은 %s원\"%(self.name,self.price)\n",
    "    \n",
    "    \n",
    "class LG(PC): # 괄호안에 상위클래스를 입력하면 상속\n",
    "    def __init__(self,name,price):\n",
    "        super().__init__(name,price)\n",
    "        self.name = name\n",
    "    def model(self):\n",
    "        return \"your PC's name is : %s \" %(self.name)\n",
    "\n",
    "model1 = LG(\"Gram\",170000)\n",
    "print(model1.info())\n",
    "\n"
   ]
  }
 ],
 "metadata": {
  "kernelspec": {
   "display_name": "Python 3.9.10 64-bit",
   "language": "python",
   "name": "python3"
  },
  "language_info": {
   "codemirror_mode": {
    "name": "ipython",
    "version": 3
   },
   "file_extension": ".py",
   "mimetype": "text/x-python",
   "name": "python",
   "nbconvert_exporter": "python",
   "pygments_lexer": "ipython3",
   "version": "3.9.10"
  },
  "orig_nbformat": 4,
  "vscode": {
   "interpreter": {
    "hash": "42b99e361eecedf0285721dae0161f2b8afcc7f59eff1c9c993bef14ae48268a"
   }
  }
 },
 "nbformat": 4,
 "nbformat_minor": 2
}
