{
 "cells": [
  {
   "cell_type": "code",
   "execution_count": 2,
   "metadata": {},
   "outputs": [
    {
     "name": "stdout",
     "output_type": "stream",
     "text": [
      "엄마는\n",
      "공부를 잘한다\n",
      "3대 600이다\n",
      "유산소를 잘한다\n",
      "---------\n",
      "kate는\n",
      "공부를 잘한다\n",
      "3대 600이다\n",
      "유산소를 잘한다\n",
      "3대 500넘는다\n"
     ]
    }
   ],
   "source": [
    "# 클래스 상속\n",
    "class mother():\n",
    "    def characteristic(self):\n",
    "        print(\"공부를 잘한다\")\n",
    "        print(\"3대 600이다\")\n",
    "        print(\"유산소를 잘한다\")\n",
    "\n",
    "class daughter(mother):\n",
    "    def characteristic(self):\n",
    "        super().characteristic() # 상속받은 메서드를 사용할 때 사용\n",
    "        print(\"3대 500넘는다\")\n",
    "\n",
    "mom = mother()\n",
    "kate = daughter()\n",
    "print(\"엄마는\")\n",
    "mom.characteristic()\n",
    "print(\"---------\")\n",
    "\n",
    "print(\"kate는\")\n",
    "kate.characteristic()\n",
    "\n",
    "# 상위클래스의 메소드를 사용"
   ]
  }
 ],
 "metadata": {
  "kernelspec": {
   "display_name": "Python 3.9.10 64-bit",
   "language": "python",
   "name": "python3"
  },
  "language_info": {
   "codemirror_mode": {
    "name": "ipython",
    "version": 3
   },
   "file_extension": ".py",
   "mimetype": "text/x-python",
   "name": "python",
   "nbconvert_exporter": "python",
   "pygments_lexer": "ipython3",
   "version": "3.9.10"
  },
  "orig_nbformat": 4,
  "vscode": {
   "interpreter": {
    "hash": "42b99e361eecedf0285721dae0161f2b8afcc7f59eff1c9c993bef14ae48268a"
   }
  }
 },
 "nbformat": 4,
 "nbformat_minor": 2
}
