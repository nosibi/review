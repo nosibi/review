{
 "cells": [
  {
   "cell_type": "code",
   "execution_count": 11,
   "metadata": {},
   "outputs": [
    {
     "name": "stdout",
     "output_type": "stream",
     "text": [
      "first second third0first0second0third\n",
      "firstsecond\n"
     ]
    }
   ],
   "source": [
    "# print(sep=\"\",end=\"\")\n",
    "# sep 출력문 사이에 삽입, end 개행 제거 또는 문자 입력\n",
    "\n",
    "print(\"first\",\"second\",\"third\",end=\"0\") #end를 넣어주면서 개행(\\n)이 실행되지 않음\n",
    "print(\"first\",\"second\",\"third\",sep=\"0\")\n",
    "\n",
    "print(\"first\",end=\"\")\n",
    "print(\"second\")"
   ]
  }
 ],
 "metadata": {
  "kernelspec": {
   "display_name": "Python 3",
   "language": "python",
   "name": "python3"
  },
  "language_info": {
   "codemirror_mode": {
    "name": "ipython",
    "version": 3
   },
   "file_extension": ".py",
   "mimetype": "text/x-python",
   "name": "python",
   "nbconvert_exporter": "python",
   "pygments_lexer": "ipython3",
   "version": "3.9.10"
  },
  "orig_nbformat": 4
 },
 "nbformat": 4,
 "nbformat_minor": 2
}
