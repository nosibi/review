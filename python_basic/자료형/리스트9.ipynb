{
 "cells": [
  {
   "cell_type": "code",
   "execution_count": 2,
   "metadata": {},
   "outputs": [
    {
     "name": "stdout",
     "output_type": "stream",
     "text": [
      "123\n",
      "1/2/3\n"
     ]
    }
   ],
   "source": [
    "# join\n",
    "\n",
    "a = ['1','2','3']\n",
    "\n",
    "b = ''.join(a) #join을 사용하면 리스트의 문자열을 하나로 이어붙여 추가\n",
    "print(b)\n",
    "\n",
    "# c = [1,2,3]\n",
    "# d = 'abc'.join(c) #이와 같은 경우는 실행이 안된다\n",
    "# print(d)\n",
    "\n",
    "f = '/'.join(a) #join되는 리스트의 문자열 사이에 들어간다\n",
    "print(f)\n",
    "\n"
   ]
  }
 ],
 "metadata": {
  "kernelspec": {
   "display_name": "base",
   "language": "python",
   "name": "python3"
  },
  "language_info": {
   "codemirror_mode": {
    "name": "ipython",
    "version": 3
   },
   "file_extension": ".py",
   "mimetype": "text/x-python",
   "name": "python",
   "nbconvert_exporter": "python",
   "pygments_lexer": "ipython3",
   "version": "3.9.12"
  },
  "orig_nbformat": 4
 },
 "nbformat": 4,
 "nbformat_minor": 2
}
