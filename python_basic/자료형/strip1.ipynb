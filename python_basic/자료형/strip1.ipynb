{
 "cells": [
  {
   "cell_type": "code",
   "execution_count": 1,
   "metadata": {},
   "outputs": [
    {
     "name": "stdout",
     "output_type": "stream",
     "text": [
      "water boil at 100 degree \n",
      "water boil at 100 degree 000000\n",
      "0000000water boil at 100 degree \n",
      "ksjwiodsj\n"
     ]
    }
   ],
   "source": [
    "# strip 시작과 끝의 공백 또는 문자열 제거\n",
    "# 문자열에서만 작동\n",
    "#strip,lstrip,rstrip\n",
    "\n",
    "text = '0000000water boil at 100 degree 000000'\n",
    "\n",
    "a = text.strip('0')\n",
    "print(a)\n",
    "b = text.lstrip('0') #좌측 제거\n",
    "print(b)\n",
    "c = text.rstrip('0') #우측 제거\n",
    "print(c)\n",
    "\n",
    "text2 = \"....,,,,123,,,,ksjwiodsj123,,,...\" \n",
    "print(text2.strip('.,123')) # 제거하려는 문자가 한 가운데에 있으면 제거x"
   ]
  }
 ],
 "metadata": {
  "kernelspec": {
   "display_name": "Python 3",
   "language": "python",
   "name": "python3"
  },
  "language_info": {
   "codemirror_mode": {
    "name": "ipython",
    "version": 3
   },
   "file_extension": ".py",
   "mimetype": "text/x-python",
   "name": "python",
   "nbconvert_exporter": "python",
   "pygments_lexer": "ipython3",
   "version": "3.9.10"
  },
  "orig_nbformat": 4
 },
 "nbformat": 4,
 "nbformat_minor": 2
}
