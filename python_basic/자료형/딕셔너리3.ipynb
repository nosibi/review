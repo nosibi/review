{
 "cells": [
  {
   "cell_type": "code",
   "execution_count": 1,
   "metadata": {},
   "outputs": [
    {
     "name": "stdout",
     "output_type": "stream",
     "text": [
      "{'a': 3, 'b': 4, 'c': 5, 'd': 9}\n"
     ]
    }
   ],
   "source": [
    "c_dic = {'a':3, 'b':4, 'c':5}\n",
    "c_dic['d'] = 9 # 새로운 key값(d)과 value값(9)를 입력하여 딕셔너리에 데이터 추가\n",
    "print(c_dic)\n"
   ]
  }
 ],
 "metadata": {
  "kernelspec": {
   "display_name": "Python 3.9.10 64-bit",
   "language": "python",
   "name": "python3"
  },
  "language_info": {
   "codemirror_mode": {
    "name": "ipython",
    "version": 3
   },
   "file_extension": ".py",
   "mimetype": "text/x-python",
   "name": "python",
   "nbconvert_exporter": "python",
   "pygments_lexer": "ipython3",
   "version": "3.9.10"
  },
  "orig_nbformat": 4,
  "vscode": {
   "interpreter": {
    "hash": "42b99e361eecedf0285721dae0161f2b8afcc7f59eff1c9c993bef14ae48268a"
   }
  }
 },
 "nbformat": 4,
 "nbformat_minor": 2
}
