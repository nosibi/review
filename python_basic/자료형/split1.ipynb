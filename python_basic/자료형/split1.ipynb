{
 "cells": [
  {
   "cell_type": "code",
   "execution_count": 1,
   "metadata": {},
   "outputs": [
    {
     "name": "stdout",
     "output_type": "stream",
     "text": [
      "['a', 'b', 'c', 'd', 'e', 'f']\n",
      "['a', 'b', 'c.d.e.f.g.h.i']\n"
     ]
    }
   ],
   "source": [
    "#split\n",
    "# .split('구분자',분할횟수) or .split(sep='구분자',maxsplit=분할횟수)\n",
    "# sep을 기준으로 문자열을 자른다\n",
    "# maxsplit parameter 기본값은 -1 제한없이 자를 수 있을 때까지 자른다\n",
    "# maxsplit은 앞에 sep 파라미터 있어야 생략가능\n",
    "\n",
    "a = \"a b c d e f\"\n",
    "b = a.split() #공백은 띄어쓰기를 기준으로 문자열을 나누는 것\n",
    "print(b)\n",
    "\n",
    "p = \"a.b.c.d.e.f.g.h.i\"\n",
    "v = p.split('.',2) # .을 기준으로 분할, 분할횟수는 2회\n",
    "print(v)\n"
   ]
  }
 ],
 "metadata": {
  "kernelspec": {
   "display_name": "Python 3",
   "language": "python",
   "name": "python3"
  },
  "language_info": {
   "codemirror_mode": {
    "name": "ipython",
    "version": 3
   },
   "file_extension": ".py",
   "mimetype": "text/x-python",
   "name": "python",
   "nbconvert_exporter": "python",
   "pygments_lexer": "ipython3",
   "version": "3.9.10"
  },
  "orig_nbformat": 4
 },
 "nbformat": 4,
 "nbformat_minor": 2
}
