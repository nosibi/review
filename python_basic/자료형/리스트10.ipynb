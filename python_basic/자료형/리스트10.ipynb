{
 "cells": [
  {
   "cell_type": "code",
   "execution_count": 3,
   "metadata": {},
   "outputs": [
    {
     "name": "stdout",
     "output_type": "stream",
     "text": [
      "['A', 'B', 'C']\n",
      "[1, 2, 3, 4, 6, 8]\n",
      "['C', 'B', 'A']\n",
      "[8, 6, 4, 3, 2, 1]\n"
     ]
    }
   ],
   "source": [
    "# list 정렬\n",
    "\n",
    "# sort 오름차순\n",
    "str1 = [\"B\",\"C\",\"A\"]\n",
    "num1 = [1,3,6,4,2,8]\n",
    "\n",
    "str1.sort()\n",
    "print(str1)\n",
    "\n",
    "num1.sort()\n",
    "print(num1)\n",
    "\n",
    "# reverse 반대 정렬\n",
    "str1.reverse()\n",
    "print(str1)\n",
    "\n",
    "num1.reverse()\n",
    "print(num1)\n"
   ]
  }
 ],
 "metadata": {
  "kernelspec": {
   "display_name": "Python 3",
   "language": "python",
   "name": "python3"
  },
  "language_info": {
   "codemirror_mode": {
    "name": "ipython",
    "version": 3
   },
   "file_extension": ".py",
   "mimetype": "text/x-python",
   "name": "python",
   "nbconvert_exporter": "python",
   "pygments_lexer": "ipython3",
   "version": "3.9.10"
  },
  "orig_nbformat": 4
 },
 "nbformat": 4,
 "nbformat_minor": 2
}
