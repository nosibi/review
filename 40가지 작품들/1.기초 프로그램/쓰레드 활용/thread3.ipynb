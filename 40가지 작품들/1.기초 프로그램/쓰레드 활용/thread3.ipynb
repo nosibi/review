{
 "cells": [
  {
   "cell_type": "code",
   "execution_count": 4,
   "metadata": {},
   "outputs": [
    {
     "name": "stdout",
     "output_type": "stream",
     "text": [
      "thread number1 : 0\n",
      "thread number1 : 1\n",
      "thread number1 : 2\n",
      "thread number1 : 3\n",
      "thread number1 : 4\n",
      "thread number1 : 5\n",
      "thread number1 : 6\n",
      "thread number1 : 7\n",
      "thread number1 : 8\n",
      "thread number1 : 9\n",
      "thread number2 : 0\n",
      "thread number2 : 1\n",
      "thread number2 : 2\n",
      "thread number2 : 3\n",
      "thread number2 : 4\n",
      "thread number2 : 5\n",
      "thread number2 : 6\n",
      "thread number2 : 7\n",
      "thread number2 : 8\n",
      "thread number2 : 9\n",
      "Main Thread\n"
     ]
    }
   ],
   "source": [
    "import threading\n",
    "\n",
    "def sum(name, value):\n",
    "    for i in range(0, value):\n",
    "        print(f\"{name} : {i}\")\n",
    "        \n",
    "t1 = threading.Thread(target=sum, args=(\"thread number1\",10))\n",
    "t2 = threading.Thread(target=sum, args=(\"thread number2\",10))\n",
    "\n",
    "t1.start()\n",
    "t2.start()\n",
    "\n",
    "print(\"Main Thread\")"
   ]
  }
 ],
 "metadata": {
  "kernelspec": {
   "display_name": "base",
   "language": "python",
   "name": "python3"
  },
  "language_info": {
   "codemirror_mode": {
    "name": "ipython",
    "version": 3
   },
   "file_extension": ".py",
   "mimetype": "text/x-python",
   "name": "python",
   "nbconvert_exporter": "python",
   "pygments_lexer": "ipython3",
   "version": "3.9.12"
  },
  "orig_nbformat": 4
 },
 "nbformat": 4,
 "nbformat_minor": 2
}
