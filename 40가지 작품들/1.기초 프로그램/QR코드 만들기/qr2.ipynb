{
 "cells": [
  {
   "cell_type": "code",
   "execution_count": 5,
   "metadata": {},
   "outputs": [
    {
     "name": "stdout",
     "output_type": "stream",
     "text": [
      "www.naver.com\n",
      "www.google.com\n"
     ]
    }
   ],
   "source": [
    "import qrcode\n",
    "\n",
    "file_path = r\"C:\\\\파이썬\\\\40개의 작품\\\\QR코드 만들기\\\\qr코드 모음.txt\"\n",
    "\n",
    "with open(file_path,'rt', encoding = 'UTF8') as f:\n",
    "    read_lines = f.readlines()  # 여러줄을 읽는 readlines\n",
    "    for line in read_lines:\n",
    "        line = line.strip()\n",
    "        print(line)\n",
    "        \n",
    "        qr_data = line\n",
    "        qr_img = qrcode.make(qr_data)\n",
    "        \n",
    "        save_path = \"C:\\\\파이썬\\\\40개의 작품\\\\QR코드 만들기\\\\\"+qr_data+\".png\"\n",
    "        qr_img.save(save_path)\n",
    "        \n",
    "# qr코드를 하나만 만들거면 파이썬을 비효율적\n",
    "# 여러개의 qr코드, 100개, 10000개 이상의 qrcode 제작시 파이썬을 이용하면 효율적\n"
   ]
  }
 ],
 "metadata": {
  "kernelspec": {
   "display_name": "base",
   "language": "python",
   "name": "python3"
  },
  "language_info": {
   "codemirror_mode": {
    "name": "ipython",
    "version": 3
   },
   "file_extension": ".py",
   "mimetype": "text/x-python",
   "name": "python",
   "nbconvert_exporter": "python",
   "pygments_lexer": "ipython3",
   "version": "3.9.12"
  },
  "orig_nbformat": 4
 },
 "nbformat": 4,
 "nbformat_minor": 2
}
