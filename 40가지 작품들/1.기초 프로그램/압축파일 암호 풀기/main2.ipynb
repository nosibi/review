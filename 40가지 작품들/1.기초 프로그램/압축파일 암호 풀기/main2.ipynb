{
 "cells": [
  {
   "cell_type": "code",
   "execution_count": 1,
   "metadata": {},
   "outputs": [
    {
     "ename": "FileNotFoundError",
     "evalue": "[Errno 2] No such file or directory: '압축파일 암호 풀기\\\\암호1234.zip'",
     "output_type": "error",
     "traceback": [
      "\u001b[1;31m---------------------------------------------------------------------------\u001b[0m",
      "\u001b[1;31mFileNotFoundError\u001b[0m                         Traceback (most recent call last)",
      "\u001b[1;32mc:\\파이썬\\40개의 작품\\압축파일 암호 풀기.ipynb\\main2.ipynb 셀 1\u001b[0m in \u001b[0;36m<cell line: 6>\u001b[1;34m()\u001b[0m\n\u001b[0;32m      <a href='vscode-notebook-cell:/c%3A/%ED%8C%8C%EC%9D%B4%EC%8D%AC/40%EA%B0%9C%EC%9D%98%20%EC%9E%91%ED%92%88/%EC%95%95%EC%B6%95%ED%8C%8C%EC%9D%BC%20%EC%95%94%ED%98%B8%20%ED%92%80%EA%B8%B0.ipynb/main2.ipynb#W0sZmlsZQ%3D%3D?line=1'>2</a>\u001b[0m \u001b[39mimport\u001b[39;00m \u001b[39mzipfile\u001b[39;00m\n\u001b[0;32m      <a href='vscode-notebook-cell:/c%3A/%ED%8C%8C%EC%9D%B4%EC%8D%AC/40%EA%B0%9C%EC%9D%98%20%EC%9E%91%ED%92%88/%EC%95%95%EC%B6%95%ED%8C%8C%EC%9D%BC%20%EC%95%94%ED%98%B8%20%ED%92%80%EA%B8%B0.ipynb/main2.ipynb#W0sZmlsZQ%3D%3D?line=3'>4</a>\u001b[0m passward_string \u001b[39m=\u001b[39m \u001b[39m\"\u001b[39m\u001b[39m0123456789abcdefghijklmnopqrstuvwxyzABCDEFGHIJKLMNOPQRSTUVWXYZ\u001b[39m\u001b[39m\"\u001b[39m\n\u001b[1;32m----> <a href='vscode-notebook-cell:/c%3A/%ED%8C%8C%EC%9D%B4%EC%8D%AC/40%EA%B0%9C%EC%9D%98%20%EC%9E%91%ED%92%88/%EC%95%95%EC%B6%95%ED%8C%8C%EC%9D%BC%20%EC%95%94%ED%98%B8%20%ED%92%80%EA%B8%B0.ipynb/main2.ipynb#W0sZmlsZQ%3D%3D?line=5'>6</a>\u001b[0m zfile \u001b[39m=\u001b[39m zipfile\u001b[39m.\u001b[39;49mZipFile(\u001b[39m'\u001b[39;49m\u001b[39m압축파일 암호 풀기\u001b[39;49m\u001b[39m\\\u001b[39;49m\u001b[39m암호1234.zip\u001b[39;49m\u001b[39m'\u001b[39;49m)\n\u001b[0;32m      <a href='vscode-notebook-cell:/c%3A/%ED%8C%8C%EC%9D%B4%EC%8D%AC/40%EA%B0%9C%EC%9D%98%20%EC%9E%91%ED%92%88/%EC%95%95%EC%B6%95%ED%8C%8C%EC%9D%BC%20%EC%95%94%ED%98%B8%20%ED%92%80%EA%B8%B0.ipynb/main2.ipynb#W0sZmlsZQ%3D%3D?line=7'>8</a>\u001b[0m \u001b[39mfor\u001b[39;00m \u001b[39mlen\u001b[39m \u001b[39min\u001b[39;00m \u001b[39mrange\u001b[39m(\u001b[39m1\u001b[39m,\u001b[39m6\u001b[39m):\n\u001b[0;32m      <a href='vscode-notebook-cell:/c%3A/%ED%8C%8C%EC%9D%B4%EC%8D%AC/40%EA%B0%9C%EC%9D%98%20%EC%9E%91%ED%92%88/%EC%95%95%EC%B6%95%ED%8C%8C%EC%9D%BC%20%EC%95%94%ED%98%B8%20%ED%92%80%EA%B8%B0.ipynb/main2.ipynb#W0sZmlsZQ%3D%3D?line=8'>9</a>\u001b[0m     to_attempt \u001b[39m=\u001b[39m itertools\u001b[39m.\u001b[39mproduct(passward_string,repeat \u001b[39m=\u001b[39m \u001b[39mlen\u001b[39m)\n",
      "File \u001b[1;32mc:\\Users\\SAMSUNG\\anaconda3\\lib\\zipfile.py:1248\u001b[0m, in \u001b[0;36mZipFile.__init__\u001b[1;34m(self, file, mode, compression, allowZip64, compresslevel, strict_timestamps)\u001b[0m\n\u001b[0;32m   1246\u001b[0m \u001b[39mwhile\u001b[39;00m \u001b[39mTrue\u001b[39;00m:\n\u001b[0;32m   1247\u001b[0m     \u001b[39mtry\u001b[39;00m:\n\u001b[1;32m-> 1248\u001b[0m         \u001b[39mself\u001b[39m\u001b[39m.\u001b[39mfp \u001b[39m=\u001b[39m io\u001b[39m.\u001b[39;49mopen(file, filemode)\n\u001b[0;32m   1249\u001b[0m     \u001b[39mexcept\u001b[39;00m \u001b[39mOSError\u001b[39;00m:\n\u001b[0;32m   1250\u001b[0m         \u001b[39mif\u001b[39;00m filemode \u001b[39min\u001b[39;00m modeDict:\n",
      "\u001b[1;31mFileNotFoundError\u001b[0m: [Errno 2] No such file or directory: '압축파일 암호 풀기\\\\암호1234.zip'"
     ]
    }
   ],
   "source": [
    "import itertools\n",
    "import zipfile\n",
    "\n",
    "passward_string = \"0123456789abcdefghijklmnopqrstuvwxyzABCDEFGHIJKLMNOPQRSTUVWXYZ\"\n",
    "\n",
    "zfile = zipfile.ZipFile('압축파일 암호 풀기\\암호1234.zip')\n",
    "\n",
    "for len in range(1,6):\n",
    "    to_attempt = itertools.product(passward_string,repeat = len)\n",
    "    for attempt in to_attempt:\n",
    "        passwd = ''.join(attempt)\n",
    "        print(passwd)\n",
    "        try:\n",
    "            zfile.extratall(pwd = passwd.encode())\n",
    "            print(f\"비밀번호는 {passwd} 입니다\")\n",
    "            break\n",
    "        except:\n",
    "            pass\n",
    "# for문이 2개라 정상적인 작동X"
   ]
  }
 ],
 "metadata": {
  "kernelspec": {
   "display_name": "base",
   "language": "python",
   "name": "python3"
  },
  "language_info": {
   "codemirror_mode": {
    "name": "ipython",
    "version": 3
   },
   "file_extension": ".py",
   "mimetype": "text/x-python",
   "name": "python",
   "nbconvert_exporter": "python",
   "pygments_lexer": "ipython3",
   "version": "3.9.12"
  },
  "orig_nbformat": 4
 },
 "nbformat": 4,
 "nbformat_minor": 2
}
