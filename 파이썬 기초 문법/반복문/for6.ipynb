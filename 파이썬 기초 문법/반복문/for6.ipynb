{
 "cells": [
  {
   "cell_type": "code",
   "execution_count": 10,
   "metadata": {},
   "outputs": [
    {
     "name": "stdout",
     "output_type": "stream",
     "text": [
      "kate is 11\n",
      "john is 23\n",
      "amy is 34\n",
      "kate is 11\n",
      "john is 23\n",
      "amy is 34\n"
     ]
    }
   ],
   "source": [
    "age = [11,23,34]\n",
    "name = ['kate','john','amy']\n",
    "\n",
    "for a,b in enumerate(name):\n",
    "    print(b,end = ' is ')\n",
    "    print(age[a])\n",
    "\n",
    "#b값은 사용하지 않고 증가되는 값인 a만 이용하여 리스트에서 값을 가져오기\n",
    "for a,b in enumerate(name):\n",
    "    print(name[a],end = ' is ')\n",
    "    print(age[a])\n",
    "    \n",
    "    "
   ]
  }
 ],
 "metadata": {
  "kernelspec": {
   "display_name": "Python 3.9.10 64-bit",
   "language": "python",
   "name": "python3"
  },
  "language_info": {
   "codemirror_mode": {
    "name": "ipython",
    "version": 3
   },
   "file_extension": ".py",
   "mimetype": "text/x-python",
   "name": "python",
   "nbconvert_exporter": "python",
   "pygments_lexer": "ipython3",
   "version": "3.9.10"
  },
  "orig_nbformat": 4,
  "vscode": {
   "interpreter": {
    "hash": "42b99e361eecedf0285721dae0161f2b8afcc7f59eff1c9c993bef14ae48268a"
   }
  }
 },
 "nbformat": 4,
 "nbformat_minor": 2
}
