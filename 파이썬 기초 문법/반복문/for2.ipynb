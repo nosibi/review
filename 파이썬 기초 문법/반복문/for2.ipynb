{
 "cells": [
  {
   "cell_type": "code",
   "execution_count": 1,
   "metadata": {},
   "outputs": [
    {
     "name": "stdout",
     "output_type": "stream",
     "text": [
      "5\n",
      "6\n",
      "7\n",
      "8\n",
      "9\n"
     ]
    }
   ],
   "source": [
    "# range로 범위지정\n",
    "for i in range(5,10):\n",
    "    print(i)\n",
    "\n",
    "# range(시작,끝) = 시작부터 (끝-1)까지\n",
    "# range(n) = 0부터 n-1까지\n"
   ]
  }
 ],
 "metadata": {
  "kernelspec": {
   "display_name": "Python 3.9.10 64-bit",
   "language": "python",
   "name": "python3"
  },
  "language_info": {
   "codemirror_mode": {
    "name": "ipython",
    "version": 3
   },
   "file_extension": ".py",
   "mimetype": "text/x-python",
   "name": "python",
   "nbconvert_exporter": "python",
   "pygments_lexer": "ipython3",
   "version": "3.9.10"
  },
  "orig_nbformat": 4,
  "vscode": {
   "interpreter": {
    "hash": "42b99e361eecedf0285721dae0161f2b8afcc7f59eff1c9c993bef14ae48268a"
   }
  }
 },
 "nbformat": 4,
 "nbformat_minor": 2
}
