{
 "cells": [
  {
   "cell_type": "code",
   "execution_count": 3,
   "metadata": {},
   "outputs": [
    {
     "name": "stdout",
     "output_type": "stream",
     "text": [
      "128.7\n",
      "128\n",
      "101.0\n"
     ]
    }
   ],
   "source": [
    "#소숫점형 자료들을 정수형으로 출력하고 싶을때\n",
    "\n",
    "a = 31.4\n",
    "b = 46.3\n",
    "c = 51\n",
    "d = 50\n",
    "print(a + b + c)\n",
    "print(int(a) + int(b) + c)\n",
    "\n",
    "# 소숫점형으로 표현하고 싶을시 float함수 사용 #실수형으로 표현\n",
    "print(float(c) + float(d))"
   ]
  }
 ],
 "metadata": {
  "kernelspec": {
   "display_name": "Python 3.9.10 64-bit",
   "language": "python",
   "name": "python3"
  },
  "language_info": {
   "codemirror_mode": {
    "name": "ipython",
    "version": 3
   },
   "file_extension": ".py",
   "mimetype": "text/x-python",
   "name": "python",
   "nbconvert_exporter": "python",
   "pygments_lexer": "ipython3",
   "version": "3.9.10"
  },
  "orig_nbformat": 4,
  "vscode": {
   "interpreter": {
    "hash": "42b99e361eecedf0285721dae0161f2b8afcc7f59eff1c9c993bef14ae48268a"
   }
  }
 },
 "nbformat": 4,
 "nbformat_minor": 2
}
