{
 "cells": [
  {
   "cell_type": "code",
   "execution_count": 1,
   "metadata": {},
   "outputs": [
    {
     "name": "stdout",
     "output_type": "stream",
     "text": [
      "20\n",
      "1010\n"
     ]
    }
   ],
   "source": [
    "a = '10'\n",
    "b = 10\n",
    "\n",
    "print(int(a) + b)\n",
    "#int함수로 문자열을 정수인 숫자형으로 변환! 덧셈이 된다\n",
    "\n",
    "print(a + str(b))\n",
    "#str함수로 숫자를 문자형으로 변환. 덧셈이 아닌 붙여지기만 한다\n",
    "\n",
    "# c = \"문자\" d = 10 \n",
    "# print(int(c) + d) (x) / print(c + str(d)) (o)"
   ]
  }
 ],
 "metadata": {
  "kernelspec": {
   "display_name": "Python 3.9.10 64-bit",
   "language": "python",
   "name": "python3"
  },
  "language_info": {
   "codemirror_mode": {
    "name": "ipython",
    "version": 3
   },
   "file_extension": ".py",
   "mimetype": "text/x-python",
   "name": "python",
   "nbconvert_exporter": "python",
   "pygments_lexer": "ipython3",
   "version": "3.9.10"
  },
  "orig_nbformat": 4,
  "vscode": {
   "interpreter": {
    "hash": "42b99e361eecedf0285721dae0161f2b8afcc7f59eff1c9c993bef14ae48268a"
   }
  }
 },
 "nbformat": 4,
 "nbformat_minor": 2
}
