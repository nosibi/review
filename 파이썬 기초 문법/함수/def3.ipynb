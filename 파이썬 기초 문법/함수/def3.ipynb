{
 "cells": [
  {
   "cell_type": "code",
   "execution_count": 4,
   "metadata": {},
   "outputs": [
    {
     "name": "stdout",
     "output_type": "stream",
     "text": [
      "3\n"
     ]
    }
   ],
   "source": [
    "def func(a,b):\n",
    "    return a + b\n",
    "c = func(1,2)\n",
    "print(c)\n",
    "\n",
    "# return은 무슨 기능?\n",
    "# 함수를 거쳐나온 리턴값 즉, return을 이용한 값을 산출해야\n",
    "# 그 결과값(리턴값)을 다른 함수에도 넣을 수 있다\n",
    "\n",
    "#def func(a,b):\n",
    "#     print(a + b)\n",
    "#c = func(1,2)\n",
    "#print(c)\n",
    "#에러가 발생한다 print값은 보여주기 위한 값일뿐"
   ]
  }
 ],
 "metadata": {
  "kernelspec": {
   "display_name": "Python 3.9.10 64-bit",
   "language": "python",
   "name": "python3"
  },
  "language_info": {
   "codemirror_mode": {
    "name": "ipython",
    "version": 3
   },
   "file_extension": ".py",
   "mimetype": "text/x-python",
   "name": "python",
   "nbconvert_exporter": "python",
   "pygments_lexer": "ipython3",
   "version": "3.9.10"
  },
  "orig_nbformat": 4,
  "vscode": {
   "interpreter": {
    "hash": "42b99e361eecedf0285721dae0161f2b8afcc7f59eff1c9c993bef14ae48268a"
   }
  }
 },
 "nbformat": 4,
 "nbformat_minor": 2
}
