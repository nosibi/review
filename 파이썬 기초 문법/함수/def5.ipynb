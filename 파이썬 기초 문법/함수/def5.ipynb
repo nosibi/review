{
 "cells": [
  {
   "cell_type": "code",
   "execution_count": 8,
   "metadata": {},
   "outputs": [
    {
     "name": "stdout",
     "output_type": "stream",
     "text": [
      "3 2\n",
      "3\n",
      "2\n"
     ]
    }
   ],
   "source": [
    "def func(a,b):\n",
    "    add = a + b\n",
    "    mux = a * b\n",
    "    return add,mux\n",
    "\n",
    "c,d = func(1,2)\n",
    "print(c,d)\n",
    "print(c)\n",
    "print(d)\n",
    "# c에는 add값이 d에는 mux값이 저장된다\n"
   ]
  }
 ],
 "metadata": {
  "kernelspec": {
   "display_name": "Python 3.9.10 64-bit",
   "language": "python",
   "name": "python3"
  },
  "language_info": {
   "codemirror_mode": {
    "name": "ipython",
    "version": 3
   },
   "file_extension": ".py",
   "mimetype": "text/x-python",
   "name": "python",
   "nbconvert_exporter": "python",
   "pygments_lexer": "ipython3",
   "version": "3.9.10"
  },
  "orig_nbformat": 4,
  "vscode": {
   "interpreter": {
    "hash": "42b99e361eecedf0285721dae0161f2b8afcc7f59eff1c9c993bef14ae48268a"
   }
  }
 },
 "nbformat": 4,
 "nbformat_minor": 2
}
