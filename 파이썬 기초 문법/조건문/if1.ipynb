{
 "cells": [
  {
   "cell_type": "code",
   "execution_count": 2,
   "metadata": {},
   "outputs": [
    {
     "name": "stdout",
     "output_type": "stream",
     "text": [
      "두 개의 값은 같습니다\n"
     ]
    }
   ],
   "source": [
    "# if조건문 뒤에 :(콜론) 붙이기\n",
    "# [=같을 때 참], [!=다를 때 참]\n",
    "\n",
    "a = 1\n",
    "b = 1\n",
    "if a == b:\n",
    "    print(\"두 개의 값은 같습니다\")\n",
    "    \n",
    "if a != b:\n",
    "    print(\"두 개의 값은 같지 않습니다\")\n"
   ]
  }
 ],
 "metadata": {
  "kernelspec": {
   "display_name": "Python 3.9.10 64-bit",
   "language": "python",
   "name": "python3"
  },
  "language_info": {
   "codemirror_mode": {
    "name": "ipython",
    "version": 3
   },
   "file_extension": ".py",
   "mimetype": "text/x-python",
   "name": "python",
   "nbconvert_exporter": "python",
   "pygments_lexer": "ipython3",
   "version": "3.9.10"
  },
  "orig_nbformat": 4,
  "vscode": {
   "interpreter": {
    "hash": "42b99e361eecedf0285721dae0161f2b8afcc7f59eff1c9c993bef14ae48268a"
   }
  }
 },
 "nbformat": 4,
 "nbformat_minor": 2
}
