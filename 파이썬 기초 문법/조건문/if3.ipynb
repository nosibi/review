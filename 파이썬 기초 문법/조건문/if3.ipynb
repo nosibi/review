{
 "cells": [
  {
   "cell_type": "code",
   "execution_count": 4,
   "metadata": {},
   "outputs": [
    {
     "name": "stdout",
     "output_type": "stream",
     "text": [
      "b가 더 크다\n"
     ]
    }
   ],
   "source": [
    "a = input(\"a값을 입력하십시오\")\n",
    "b = input(\"b값을 입력하십시오\")\n",
    "if a > b:\n",
    "    print(\"a가 더 크다\")\n",
    "elif a < b:\n",
    "    print(\"b가 더 크다\")\n",
    "else:\n",
    "    print(\"두 값은 같다\")\n"
   ]
  }
 ],
 "metadata": {
  "kernelspec": {
   "display_name": "Python 3.9.10 64-bit",
   "language": "python",
   "name": "python3"
  },
  "language_info": {
   "codemirror_mode": {
    "name": "ipython",
    "version": 3
   },
   "file_extension": ".py",
   "mimetype": "text/x-python",
   "name": "python",
   "nbconvert_exporter": "python",
   "pygments_lexer": "ipython3",
   "version": "3.9.10"
  },
  "orig_nbformat": 4,
  "vscode": {
   "interpreter": {
    "hash": "42b99e361eecedf0285721dae0161f2b8afcc7f59eff1c9c993bef14ae48268a"
   }
  }
 },
 "nbformat": 4,
 "nbformat_minor": 2
}
