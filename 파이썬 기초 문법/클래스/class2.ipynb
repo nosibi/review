{
 "cells": [
  {
   "cell_type": "code",
   "execution_count": 7,
   "metadata": {},
   "outputs": [
    {
     "name": "stdout",
     "output_type": "stream",
     "text": [
      "이름 = 김철수, 나이 = 17, 체중 = 84kg\n",
      "이름 = 김영희, 나이 = 17, 체중 = 92kg\n"
     ]
    }
   ],
   "source": [
    "# 클래스는 반복되는 불필요한 소스코드 최소화\n",
    "# 데이터 매소드를 구성하는 함수를 하나의 묶음으로\n",
    "# 유지,보수,관리,수정에 용이하다\n",
    "\n",
    "class student():\n",
    "    def __init__(self,name,age,weight):\n",
    "        self.name = name\n",
    "        self.age = age\n",
    "        self.weight = weight\n",
    "    def info(self):  #메소드\n",
    "        print(f\"이름 = {self.name}, 나이 = {self.age}, 체중 = {self.weight}\")\n",
    "\n",
    "김철수 = student(\"김철수\",17,'84kg')\n",
    "김철수.info()\n",
    "\n",
    "김영희 = student(\"김영희\",17,'92kg')\n",
    "김영희.info()\n",
    "\n",
    "# 김철수는 객체, 김철수는 student 클래스의 인스턴스\n"
   ]
  }
 ],
 "metadata": {
  "kernelspec": {
   "display_name": "Python 3.9.10 64-bit",
   "language": "python",
   "name": "python3"
  },
  "language_info": {
   "codemirror_mode": {
    "name": "ipython",
    "version": 3
   },
   "file_extension": ".py",
   "mimetype": "text/x-python",
   "name": "python",
   "nbconvert_exporter": "python",
   "pygments_lexer": "ipython3",
   "version": "3.9.10"
  },
  "orig_nbformat": 4,
  "vscode": {
   "interpreter": {
    "hash": "42b99e361eecedf0285721dae0161f2b8afcc7f59eff1c9c993bef14ae48268a"
   }
  }
 },
 "nbformat": 4,
 "nbformat_minor": 2
}
