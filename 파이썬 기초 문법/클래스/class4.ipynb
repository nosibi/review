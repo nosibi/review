{
 "cells": [
  {
   "cell_type": "code",
   "execution_count": 3,
   "metadata": {},
   "outputs": [
    {
     "name": "stdout",
     "output_type": "stream",
     "text": [
      "호출1\n",
      "호출2\n"
     ]
    }
   ],
   "source": [
    "# 클래스 메소드와 인스턴스 메소드 호출\n",
    "class selftest():\n",
    "    def test1():  # 클래스 메소드\n",
    "        print(\"호출1\")\n",
    "    def test2(self):  # 인스턴스 메소드\n",
    "        print(\"호출2\")\n",
    "selftest.test1() #클래스 메소드 호출\n",
    "selftest.test2(\"아무거나\") #인스턴스 메소드 호출(인스턴스 변수 필요)\n",
    "\n"
   ]
  }
 ],
 "metadata": {
  "kernelspec": {
   "display_name": "Python 3.9.10 64-bit",
   "language": "python",
   "name": "python3"
  },
  "language_info": {
   "codemirror_mode": {
    "name": "ipython",
    "version": 3
   },
   "file_extension": ".py",
   "mimetype": "text/x-python",
   "name": "python",
   "nbconvert_exporter": "python",
   "pygments_lexer": "ipython3",
   "version": "3.9.10"
  },
  "orig_nbformat": 4,
  "vscode": {
   "interpreter": {
    "hash": "42b99e361eecedf0285721dae0161f2b8afcc7f59eff1c9c993bef14ae48268a"
   }
  }
 },
 "nbformat": 4,
 "nbformat_minor": 2
}
