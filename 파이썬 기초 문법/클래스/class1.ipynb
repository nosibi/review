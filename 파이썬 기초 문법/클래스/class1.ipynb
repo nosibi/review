{
 "cells": [
  {
   "cell_type": "code",
   "execution_count": 3,
   "metadata": {},
   "outputs": [
    {
     "name": "stdout",
     "output_type": "stream",
     "text": [
      "Hello\n",
      "hi\n",
      "Hello\n",
      "hi\n"
     ]
    }
   ],
   "source": [
    "# 클래스란 프로그램의 틀\n",
    "# 클래스 이용 틀을 만들고 그 틀대로 찍어 객체 생성\n",
    "# 객체를 만드는 프로그램\n",
    "class Greet():     #Greet 이라는 클래스 생성 # 그 안에는 hello, hi라는 두 함수\n",
    "    def hello(self):  # 클래스 안의 함수는 메서드\n",
    "        print(\"Hello\")\n",
    "    def hi(self):\n",
    "        print(\"hi\")\n",
    "human1 = Greet()\n",
    "human2 = Greet()\n",
    "human1.hello()\n",
    "human1.hi()\n",
    "human2.hello()\n",
    "human2.hi()\n"
   ]
  }
 ],
 "metadata": {
  "kernelspec": {
   "display_name": "Python 3.9.10 64-bit",
   "language": "python",
   "name": "python3"
  },
  "language_info": {
   "codemirror_mode": {
    "name": "ipython",
    "version": 3
   },
   "file_extension": ".py",
   "mimetype": "text/x-python",
   "name": "python",
   "nbconvert_exporter": "python",
   "pygments_lexer": "ipython3",
   "version": "3.9.10"
  },
  "orig_nbformat": 4,
  "vscode": {
   "interpreter": {
    "hash": "42b99e361eecedf0285721dae0161f2b8afcc7f59eff1c9c993bef14ae48268a"
   }
  }
 },
 "nbformat": 4,
 "nbformat_minor": 2
}
