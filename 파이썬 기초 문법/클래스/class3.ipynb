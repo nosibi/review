{
 "cells": [
  {
   "cell_type": "code",
   "execution_count": 4,
   "metadata": {},
   "outputs": [
    {
     "name": "stdout",
     "output_type": "stream",
     "text": [
      "13\n",
      "스마트폰 정보 :  갤럭시s10 90만원\n"
     ]
    }
   ],
   "source": [
    "class Sum():\n",
    "    def __init__(self):\n",
    "        self.num = 1\n",
    "    def add(self,num):\n",
    "        self.num += num\n",
    "        return self.num\n",
    "test1 = Sum()\n",
    "a = test1.add(12)\n",
    "print(a)\n",
    "\n",
    "class smartphone():\n",
    "    def __init__(self,name,price):\n",
    "        self.name = name\n",
    "        self.price = price\n",
    "    def info(self):\n",
    "        print(\"스마트폰 정보 : \",self.name,self.price)\n",
    "\n",
    "test1 = smartphone(\"갤럭시s10\",\"90만원\")\n",
    "test1.info()\n"
   ]
  }
 ],
 "metadata": {
  "kernelspec": {
   "display_name": "Python 3.9.10 64-bit",
   "language": "python",
   "name": "python3"
  },
  "language_info": {
   "codemirror_mode": {
    "name": "ipython",
    "version": 3
   },
   "file_extension": ".py",
   "mimetype": "text/x-python",
   "name": "python",
   "nbconvert_exporter": "python",
   "pygments_lexer": "ipython3",
   "version": "3.9.10"
  },
  "orig_nbformat": 4,
  "vscode": {
   "interpreter": {
    "hash": "42b99e361eecedf0285721dae0161f2b8afcc7f59eff1c9c993bef14ae48268a"
   }
  }
 },
 "nbformat": 4,
 "nbformat_minor": 2
}
