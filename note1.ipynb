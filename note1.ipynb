{
 "cells": [
  {
   "cell_type": "code",
   "execution_count": 11,
   "metadata": {},
   "outputs": [
    {
     "name": "stdout",
     "output_type": "stream",
     "text": [
      "20403\n"
     ]
    }
   ],
   "source": [
    "def solution(rank,attendance):\n",
    "    list1 = []\n",
    "    list2 = []\n",
    "    for i in range(len(attendance)):\n",
    "        if attendance[i] == True:\n",
    "            list1.append(rank[i])\n",
    "    list1.sort()\n",
    "    for a in range(len(list1)):\n",
    "        for b in range(len(rank)):\n",
    "            if int(list1[a]) == int(rank[b]):\n",
    "                list2.append(b)\n",
    "    answer = 10000*list2[0] + 100*list2[1] + list2[2]\n",
    "    return answer\n",
    "rank = [3, 7, 2, 5, 4, 6, 1]\n",
    "attendance = [False, True, True, True, True, False, False]\n",
    "\n",
    "print(solution(rank,attendance))\n",
    "\n"
   ]
  }
 ],
 "metadata": {
  "kernelspec": {
   "display_name": "base",
   "language": "python",
   "name": "python3"
  },
  "language_info": {
   "codemirror_mode": {
    "name": "ipython",
    "version": 3
   },
   "file_extension": ".py",
   "mimetype": "text/x-python",
   "name": "python",
   "nbconvert_exporter": "python",
   "pygments_lexer": "ipython3",
   "version": "3.9.10"
  },
  "orig_nbformat": 4
 },
 "nbformat": 4,
 "nbformat_minor": 2
}
