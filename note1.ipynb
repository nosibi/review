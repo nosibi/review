{
 "cells": [
  {
   "cell_type": "code",
   "execution_count": 11,
   "metadata": {},
   "outputs": [
    {
     "name": "stdout",
     "output_type": "stream",
     "text": [
      "20403\n"
     ]
    }
   ],
   "source": [
    "def func_a(current_grade, last_grade, rank, max_diff_grade):\n",
    "    arr_length = len(current_grade)\n",
    "    count = 0\n",
    "    for i in range(arr_length):\n",
    "        if current_grade[i] >= 80 and rank[i] <= arr_length // 10:\n",
    "            count += 1\n",
    "        elif current_grade[i] >= 80 and rank[i] == 1:\n",
    "            count += 1\n",
    "        elif max_diff_grade > 0 and max_diff_grade == current_grade[i] - last_grade[i]:\n",
    "            count += 1\n",
    "    return count\n",
    "\n",
    "def func_b(current_grade):\n",
    "    arr_length = len(current_grade)\n",
    "    rank = [1] * arr_length\n",
    "    for i in range(arr_length):\n",
    "        for j in range(arr_length):\n",
    "            if current_grade[i] < current_grade[j]:\n",
    "                rank[i] += 1\n",
    "    return rank\n",
    "\n",
    "def func_c(current_grade, last_grade):\n",
    "    max_diff_grade = 1\n",
    "    for i in range(len(current_grade)):\n",
    "        max_diff_grade = max(max_diff_grade, current_grade[i] - last_grade[i])\n",
    "    return max_diff_grade\n",
    "\n",
    "def solution(current_grade, last_grade):\n",
    "    rank = func_@@@(@@@)\n",
    "    max_diff_grade = func_@@@(@@@)\n",
    "    answer = func_@@@(@@@)\n",
    "    return answer\n",
    "\n",
    "#아래는 테스트케이스 출력을 해보기 위한 코드입니다.\n",
    "current_grade = [70, 100, 70, 80, 50, 95]\n",
    "last_grade = [35, 65, 80, 50, 20, 60]\n",
    "ret = solution(current_grade, last_grade)\n",
    "\n",
    "#[실행] 버튼을 누르면 출력 값을 볼 수 있습니다.\n",
    "print(\"solution 함수의 반환 값은\", ret, \"입니다.\")"
   ]
  }
 ],
 "metadata": {
  "kernelspec": {
   "display_name": "base",
   "language": "python",
   "name": "python3"
  },
  "language_info": {
   "codemirror_mode": {
    "name": "ipython",
    "version": 3
   },
   "file_extension": ".py",
   "mimetype": "text/x-python",
   "name": "python",
   "nbconvert_exporter": "python",
   "pygments_lexer": "ipython3",
   "version": "3.9.10"
  },
  "orig_nbformat": 4
 },
 "nbformat": 4,
 "nbformat_minor": 2
}
