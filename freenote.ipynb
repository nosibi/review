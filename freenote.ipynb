{
 "cells": [
  {
   "cell_type": "code",
   "execution_count": 6,
   "metadata": {},
   "outputs": [
    {
     "ename": "UnboundLocalError",
     "evalue": "local variable 'd' referenced before assignment",
     "output_type": "error",
     "traceback": [
      "\u001b[1;31m---------------------------------------------------------------------------\u001b[0m",
      "\u001b[1;31mUnboundLocalError\u001b[0m                         Traceback (most recent call last)",
      "\u001b[1;32mc:\\파이썬\\freenote.ipynb 셀 1\u001b[0m in \u001b[0;36m<cell line: 20>\u001b[1;34m()\u001b[0m\n\u001b[0;32m     <a href='vscode-notebook-cell:/c%3A/%ED%8C%8C%EC%9D%B4%EC%8D%AC/freenote.ipynb#W0sZmlsZQ%3D%3D?line=17'>18</a>\u001b[0m end_month \u001b[39m=\u001b[39m \u001b[39m2\u001b[39m\n\u001b[0;32m     <a href='vscode-notebook-cell:/c%3A/%ED%8C%8C%EC%9D%B4%EC%8D%AC/freenote.ipynb#W0sZmlsZQ%3D%3D?line=18'>19</a>\u001b[0m end_day \u001b[39m=\u001b[39m \u001b[39m2\u001b[39m\n\u001b[1;32m---> <a href='vscode-notebook-cell:/c%3A/%ED%8C%8C%EC%9D%B4%EC%8D%AC/freenote.ipynb#W0sZmlsZQ%3D%3D?line=19'>20</a>\u001b[0m ret \u001b[39m=\u001b[39m solution(start_month, start_day, end_month, end_day)\n\u001b[0;32m     <a href='vscode-notebook-cell:/c%3A/%ED%8C%8C%EC%9D%B4%EC%8D%AC/freenote.ipynb#W0sZmlsZQ%3D%3D?line=21'>22</a>\u001b[0m \u001b[39m#Press Run button to receive output.\u001b[39;00m\n\u001b[0;32m     <a href='vscode-notebook-cell:/c%3A/%ED%8C%8C%EC%9D%B4%EC%8D%AC/freenote.ipynb#W0sZmlsZQ%3D%3D?line=22'>23</a>\u001b[0m \u001b[39mprint\u001b[39m(\u001b[39m\"\u001b[39m\u001b[39mSolution: return value of the function is\u001b[39m\u001b[39m\"\u001b[39m, ret, \u001b[39m\"\u001b[39m\u001b[39m.\u001b[39m\u001b[39m\"\u001b[39m)\n",
      "\u001b[1;32mc:\\파이썬\\freenote.ipynb 셀 1\u001b[0m in \u001b[0;36msolution\u001b[1;34m(start_month, start_day, end_month, end_day)\u001b[0m\n\u001b[0;32m     <a href='vscode-notebook-cell:/c%3A/%ED%8C%8C%EC%9D%B4%EC%8D%AC/freenote.ipynb#W0sZmlsZQ%3D%3D?line=9'>10</a>\u001b[0m \u001b[39mdef\u001b[39;00m \u001b[39msolution\u001b[39m(start_month, start_day, end_month, end_day):\n\u001b[1;32m---> <a href='vscode-notebook-cell:/c%3A/%ED%8C%8C%EC%9D%B4%EC%8D%AC/freenote.ipynb#W0sZmlsZQ%3D%3D?line=10'>11</a>\u001b[0m     start_total \u001b[39m=\u001b[39m func_a(start_month, start_day)\n\u001b[0;32m     <a href='vscode-notebook-cell:/c%3A/%ED%8C%8C%EC%9D%B4%EC%8D%AC/freenote.ipynb#W0sZmlsZQ%3D%3D?line=11'>12</a>\u001b[0m     end_total \u001b[39m=\u001b[39m func_a(end_month, end_day)\n\u001b[0;32m     <a href='vscode-notebook-cell:/c%3A/%ED%8C%8C%EC%9D%B4%EC%8D%AC/freenote.ipynb#W0sZmlsZQ%3D%3D?line=12'>13</a>\u001b[0m     \u001b[39mreturn\u001b[39;00m end_total \u001b[39m-\u001b[39m start_total\n",
      "\u001b[1;32mc:\\파이썬\\freenote.ipynb 셀 1\u001b[0m in \u001b[0;36mfunc_a\u001b[1;34m(month, day)\u001b[0m\n\u001b[0;32m      <a href='vscode-notebook-cell:/c%3A/%ED%8C%8C%EC%9D%B4%EC%8D%AC/freenote.ipynb#W0sZmlsZQ%3D%3D?line=3'>4</a>\u001b[0m \u001b[39mfor\u001b[39;00m i \u001b[39min\u001b[39;00m \u001b[39mrange\u001b[39m(month\u001b[39m-\u001b[39m\u001b[39m1\u001b[39m):\n\u001b[0;32m      <a href='vscode-notebook-cell:/c%3A/%ED%8C%8C%EC%9D%B4%EC%8D%AC/freenote.ipynb#W0sZmlsZQ%3D%3D?line=4'>5</a>\u001b[0m     d \u001b[39m=\u001b[39m month_list[i]\n\u001b[1;32m----> <a href='vscode-notebook-cell:/c%3A/%ED%8C%8C%EC%9D%B4%EC%8D%AC/freenote.ipynb#W0sZmlsZQ%3D%3D?line=5'>6</a>\u001b[0m total \u001b[39m+\u001b[39m\u001b[39m=\u001b[39m day \u001b[39m+\u001b[39m d\n\u001b[0;32m      <a href='vscode-notebook-cell:/c%3A/%ED%8C%8C%EC%9D%B4%EC%8D%AC/freenote.ipynb#W0sZmlsZQ%3D%3D?line=6'>7</a>\u001b[0m \u001b[39mreturn\u001b[39;00m total \u001b[39m-\u001b[39m \u001b[39m1\u001b[39m\n",
      "\u001b[1;31mUnboundLocalError\u001b[0m: local variable 'd' referenced before assignment"
     ]
    }
   ],
   "source": [
    "def func_a(month, day):\n",
    "    month_list = [31, 28, 31, 30, 31, 30, 31, 31, 30, 31, 30, 31]\n",
    "    total = 0\n",
    "    for i in range(month-1):\n",
    "        d = month_list[i]\n",
    "    total += day + d\n",
    "    return total - 1 \n",
    "    \n",
    "    \n",
    "def solution(start_month, start_day, end_month, end_day):\n",
    "    start_total = func_a(start_month, start_day)\n",
    "    end_total = func_a(end_month, end_day)\n",
    "    return end_total - start_total\n",
    "\n",
    "#The following is code to output testcase.\n",
    "start_month = 1\n",
    "start_day = 2\n",
    "end_month = 2\n",
    "end_day = 2\n",
    "ret = solution(start_month, start_day, end_month, end_day)\n",
    "\n",
    "#Press Run button to receive output.\n",
    "print(\"Solution: return value of the function is\", ret, \".\")"
   ]
  }
 ],
 "metadata": {
  "kernelspec": {
   "display_name": "Python 3.9.12 ('base')",
   "language": "python",
   "name": "python3"
  },
  "language_info": {
   "codemirror_mode": {
    "name": "ipython",
    "version": 3
   },
   "file_extension": ".py",
   "mimetype": "text/x-python",
   "name": "python",
   "nbconvert_exporter": "python",
   "pygments_lexer": "ipython3",
   "version": "3.9.12"
  },
  "orig_nbformat": 4,
  "vscode": {
   "interpreter": {
    "hash": "604d36363eafd9e67c1f556089da69fa54f9731189d50fdd5ef0c173bfd24ffb"
   }
  }
 },
 "nbformat": 4,
 "nbformat_minor": 2
}
