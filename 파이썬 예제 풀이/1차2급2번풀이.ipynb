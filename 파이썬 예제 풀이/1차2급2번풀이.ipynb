{
 "cells": [
  {
   "cell_type": "code",
   "execution_count": null,
   "metadata": {},
   "outputs": [],
   "source": [
    "#1 조건문을 이용\n",
    "\n",
    "def solution(price, grade):\n",
    "    if grade == \"V\":\n",
    "        d = 0.85 # d는 할인율을 말함\n",
    "    elif grade == \"G\":\n",
    "        d = 0.90\n",
    "    else:\n",
    "        d = 0.95\n",
    "    answer = int(price*d)\n",
    "    return answer\n",
    "\n",
    "#2 딕셔너리를 이용\n",
    "\n",
    "def solution(price,grade):\n",
    "    dictionary = dict(V=0.85,G=0.90,S=0.95)\n",
    "    d = dictionary[grade] # grade라는 key를 기입하면 할인율이라는 value가 호출된다\n",
    "    answer = int(price*d)\n",
    "    return answer \n",
    "\n",
    "\n",
    "\n",
    "price1 = 2500\n",
    "grade1 = \"V\"\n",
    "ret1 = solution(price1, grade1)\n",
    "\n",
    "print(\"Solution: return value of the function is\", ret1, \".\")\n",
    "    \n",
    "price2 = 96900\n",
    "grade2 = \"S\"\n",
    "ret2 = solution(price2, grade2)\n",
    "\n",
    "print(\"Solution: return value of the function is\", ret2, \".\")"
   ]
  }
 ],
 "metadata": {
  "kernelspec": {
   "display_name": "Python 3.9.12 ('base')",
   "language": "python",
   "name": "python3"
  },
  "language_info": {
   "name": "python",
   "version": "3.9.12"
  },
  "orig_nbformat": 4,
  "vscode": {
   "interpreter": {
    "hash": "604d36363eafd9e67c1f556089da69fa54f9731189d50fdd5ef0c173bfd24ffb"
   }
  }
 },
 "nbformat": 4,
 "nbformat_minor": 2
}
