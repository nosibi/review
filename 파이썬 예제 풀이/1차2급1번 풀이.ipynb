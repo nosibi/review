{
 "cells": [
  {
   "cell_type": "code",
   "execution_count": 3,
   "metadata": {},
   "outputs": [
    {
     "name": "stdout",
     "output_type": "stream",
     "text": [
      "Solution: return value of the function is  [1, 2, 0, 2, 1, 0]  .\n",
      "Solution: return value of the function is  [1, 2, 0, 2, 1, 0]  .\n"
     ]
    }
   ],
   "source": [
    "# def solution(shirt_size):\n",
    "#     #Write code here.\n",
    "#     answer = []\n",
    "#     return answer\n",
    "\n",
    "# #The following is code to output testcase.\n",
    "# shirt_size = [\"XS\", \"S\", \"L\", \"L\", \"XL\", \"S\"]\n",
    "# ret = solution(shirt_size);\n",
    "\n",
    "# #Press Run button to receive output.\n",
    "# print(\"Solution: return value of the function is \", ret, \" .\")\n",
    "# Ctrl + U(C) + K : 주석해제(처리)\n",
    "\n",
    "shirt_size = [\"XS\",\"S\",\"L\",\"L\",\"XL\",\"S\"]\n",
    "\n",
    "# 1 조건문과 리스트를 이용\n",
    "def solution1(shirt_size):\n",
    "    answer = [0]*6\n",
    "    for i in shirt_size:\n",
    "        if i == \"XS\": a=0\n",
    "        elif i == \"S\": a=1\n",
    "        elif i == \"M\": a=2\n",
    "        elif i == \"L\": a=3\n",
    "        elif i == \"XL\": a=4\n",
    "        else : a=5\n",
    "        answer[a] = answer[a] + 1\n",
    "    return answer\n",
    "    \n",
    "ret = solution1(shirt_size)\n",
    "\n",
    "print(\"Solution: return value of the function is \", ret, \" .\")\n",
    "\n",
    "# 2 딕셔너리를 이용\n",
    "def solution2(shirt_size):\n",
    "    answer = [0]*6\n",
    "    A = dict(XS=0,S=1,M=2,L=3,XL=4,XXL=5)\n",
    "    for b in shirt_size:\n",
    "        p = A[b]\n",
    "        answer[p] = answer[p] + 1\n",
    "    return answer\n",
    "\n",
    "ret = solution2(shirt_size)\n",
    "\n",
    "print(\"Solution: return value of the function is \", ret, \" .\")"
   ]
  }
 ],
 "metadata": {
  "kernelspec": {
   "display_name": "Python 3.9.12 ('base')",
   "language": "python",
   "name": "python3"
  },
  "language_info": {
   "codemirror_mode": {
    "name": "ipython",
    "version": 3
   },
   "file_extension": ".py",
   "mimetype": "text/x-python",
   "name": "python",
   "nbconvert_exporter": "python",
   "pygments_lexer": "ipython3",
   "version": "3.9.12"
  },
  "orig_nbformat": 4,
  "vscode": {
   "interpreter": {
    "hash": "604d36363eafd9e67c1f556089da69fa54f9731189d50fdd5ef0c173bfd24ffb"
   }
  }
 },
 "nbformat": 4,
 "nbformat_minor": 2
}
